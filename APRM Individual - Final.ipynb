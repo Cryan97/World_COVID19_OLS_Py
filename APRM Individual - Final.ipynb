{
 "cells": [
  {
   "cell_type": "code",
   "execution_count": null,
   "metadata": {},
   "outputs": [],
   "source": [
    "#Importing Required Packages\n",
    "import os\n",
    "import pandas as pd\n",
    "from pandas import DataFrame,Series\n",
    "import numpy as np\n",
    "import wbdata as wbd\n",
    "import datetime\n",
    "import statsmodels.api as sm\n",
    "from statsmodels.iolib.summary2 import summary_col\n",
    "from statsmodels.regression.linear_model import OLS\n",
    "from statsmodels.stats.outliers_influence import variance_inflation_factor\n",
    "from sklearn.linear_model import LassoLarsIC as lasso_ic\n",
    "from sklearn.linear_model import LassoCV\n",
    "from sklearn.linear_model import Lasso\n",
    "from sklearn.preprocessing import scale\n",
    "from patsy import dmatrices"
   ]
  },
  {
   "cell_type": "code",
   "execution_count": null,
   "metadata": {},
   "outputs": [],
   "source": [
    "#setting the current working directory\n",
    "os.chdir(r\"C:\\Users\\conor\\OneDrive\\Documents\\Ec & Fi Undergrad\\APRM Individual Project\")"
   ]
  },
  {
   "cell_type": "code",
   "execution_count": null,
   "metadata": {},
   "outputs": [],
   "source": [
    "#Reading in the dependent variable data\n",
    "#Obtained from worldometer.info/coronavirus using waybackmachine\n",
    "dep_vars = pd.read_excel(\"Dep Vars.xlsx\",sheet_name=\"13th April\")\n",
    "dep_vars.head()"
   ]
  },
  {
   "cell_type": "code",
   "execution_count": null,
   "metadata": {},
   "outputs": [],
   "source": [
    "#Dropping unrequired columns\n",
    "drop_cols = dep_vars.columns\n",
    "dep_vars.drop(columns = drop_cols.drop\\\n",
    "              (labels=[\"Country\",\"Total Cases\",\"Total Deaths\"]),inplace=True)\n",
    "dep_vars.head()"
   ]
  },
  {
   "cell_type": "code",
   "execution_count": null,
   "metadata": {},
   "outputs": [],
   "source": [
    "dep_vars.shape"
   ]
  },
  {
   "cell_type": "code",
   "execution_count": null,
   "metadata": {
    "scrolled": true
   },
   "outputs": [],
   "source": [
    "dep_vars.info()"
   ]
  },
  {
   "cell_type": "code",
   "execution_count": null,
   "metadata": {},
   "outputs": [],
   "source": [
    "#dep_vars.set_index(\"Country\",inplace=True)\n",
    "dep_vars.sort_index(inplace=True)\n",
    "dep_vars"
   ]
  },
  {
   "cell_type": "code",
   "execution_count": null,
   "metadata": {},
   "outputs": [],
   "source": [
    "#Obtaining data from the World Bank\n",
    "#creating a list of countries which we require data for\n",
    "countries_list = dep_vars.Country.copy()\n",
    "country_id_name = []\n",
    "country_no_id = []\n",
    "country_multiple_ids = []\n",
    "\n",
    "#searching for each countries ID in the world bank database\n",
    "for i in countries_list:\n",
    "    x = wbd.search_countries(i,display=False)\n",
    "    if len(x) == 0:\n",
    "        country_no_id.append(i)\n",
    "    elif len(x) > 1:\n",
    "        country_multiple_ids.append(i)   \n",
    "    else:\n",
    "        for j in x:\n",
    "             country_name = j[\"name\"]\n",
    "             country_id = j[\"id\"]\n",
    "             country_id_name.append([i,country_name,country_id])"
   ]
  },
  {
   "cell_type": "code",
   "execution_count": null,
   "metadata": {},
   "outputs": [],
   "source": [
    "#printing which countries the search was unable to find IDs for\n",
    "country_no_id_ser = Series(country_no_id)"
   ]
  },
  {
   "cell_type": "code",
   "execution_count": null,
   "metadata": {},
   "outputs": [],
   "source": [
    "#creating a map to change the country names and perform another search\n",
    "keys_no_id = country_no_id.copy()\n",
    "values_no_id = [\"United States\",\"Korea, Rep.\",\"Czech Republic\",\"United Arab Emirates\",\\\n",
    "          \"Slovak Republic\",\"Diamond Princess Cruise\",\"Cote d'Ivoire\",\"Kyrgyz Republic\",\\\n",
    "          \"Réunion\",\"Palestine\",\"Congo, Dem. Rep.\",\"Mayotte\",\"Faroe Islands\",\\\n",
    "          \"Martinique\",\"Guadeloupe\",\"French Guiana\",\"St. Martin\",\"Lao PDR\",\\\n",
    "          \"St. Lucia\",\"Curacao\",\"St. Kitts and Nevis\",\"St. Vincent and the Grenadines\",\\\n",
    "          \"Montserrat\",\"MS Zaandam Cruise\",\"Vatican City\",\"St. Barth\",\"Western Sahara\",\\\n",
    "          \"Falkland Islands\",\"Anguilla\",\"Caribbean Netherlands\",\"Saint Pierre Miquelon\"]\n",
    "\n",
    "country_map_no_id = dict(zip(keys_no_id,values_no_id))\n",
    "country_no_id_ser = country_no_id_ser.map(country_map_no_id)\n",
    "#search again using new country names\n",
    "country_no_id = []\n",
    "for i in country_no_id_ser:\n",
    "    x = wbd.search_countries(i,display=False)\n",
    "    if len(x) == 0:\n",
    "        country_no_id.append(i)\n",
    "    elif len(x) > 1:\n",
    "        country_multiple_ids.append(i)   \n",
    "    else:\n",
    "        for j in x:\n",
    "             country_name = j[\"name\"]\n",
    "             country_id = j[\"id\"]\n",
    "             country_id_name.append([i,country_name,country_id])\n"
   ]
  },
  {
   "cell_type": "code",
   "execution_count": null,
   "metadata": {},
   "outputs": [],
   "source": [
    "#Printing which countries where multiple IDs were found\n",
    "country_multi_ser = Series(country_multiple_ids)\n"
   ]
  },
  {
   "cell_type": "code",
   "execution_count": null,
   "metadata": {},
   "outputs": [],
   "source": [
    "#creating a map to cahnge the country names and perform another search           \n",
    "keys_multi = country_multiple_ids.copy()\n",
    "values_multi = [\"China\",\"South Africa\",\"Oman\",\"Niger\",\"Nigeria\",\"Guinea\",\"Mali\"\\\n",
    "                ,\"Congo, Rep.\",\"Sudan\",\"Dominica\",\"Central African Republic\"]\n",
    "values_multi_kf = [\"China\",\"Oman\",\"Niger\",\"Nigeria\",\"Guinea\",\"Mali\",\"Sudan\",\"Dominica\"]\n",
    "values_multi_kl = [\"South Africa\",\"Congo, Rep.\"]\n",
    "\n",
    "country_map_multi = dict(zip(keys_multi,values_multi))\n",
    "country_multi_ser = country_multi_ser.map(country_map_multi)\n",
    "\n",
    "#search again using new country names\n",
    "for i in country_multi_ser:\n",
    "    x = wbd.search_countries(i,display=False)\n",
    "    if i in values_multi_kf:\n",
    "        country_name = x[0][\"name\"]\n",
    "        country_id = x[0][\"id\"]\n",
    "        country_id_name.append([i,country_name,country_id])\n",
    "    elif i in values_multi_kl:\n",
    "        country_name = x[-1][\"name\"]\n",
    "        country_id = x[-1][\"id\"]\n",
    "        country_id_name.append([i,country_name,country_id])\n",
    "    else:\n",
    "         country_name = x[0][\"name\"]\n",
    "         country_id = x[0][\"id\"]\n",
    "         country_id_name.append([i,country_name,country_id])\n"
   ]
  },
  {
   "cell_type": "code",
   "execution_count": null,
   "metadata": {},
   "outputs": [],
   "source": [
    "country_df = DataFrame(country_id_name,\\\n",
    "                       columns=[\"Dep Vars Names\",\"WBD Name\",\"WBD ID\"])\n",
    "country_df.set_index(\"Dep Vars Names\",inplace=True)\n",
    "country_df.sort_index(inplace=True)\n",
    "country_df.head()"
   ]
  },
  {
   "cell_type": "code",
   "execution_count": null,
   "metadata": {},
   "outputs": [],
   "source": [
    "#Checking for duplicates\n",
    "country_df.index.duplicated().sum()"
   ]
  },
  {
   "cell_type": "code",
   "execution_count": null,
   "metadata": {},
   "outputs": [],
   "source": [
    "#Checking shape of the country dataframe\n",
    "country_df.shape"
   ]
  },
  {
   "cell_type": "code",
   "execution_count": null,
   "metadata": {},
   "outputs": [],
   "source": [
    "#Number of countries that do not have an ID\n",
    "len(country_no_id)"
   ]
  },
  {
   "cell_type": "code",
   "execution_count": null,
   "metadata": {},
   "outputs": [],
   "source": [
    "#Creating a list of country IDs\n",
    "country_id = country_df[\"WBD ID\"].tolist()"
   ]
  },
  {
   "cell_type": "code",
   "execution_count": null,
   "metadata": {},
   "outputs": [],
   "source": [
    "#Creating a list of country names\n",
    "country_name = country_df[\"WBD Name\"].tolist()"
   ]
  },
  {
   "cell_type": "code",
   "execution_count": null,
   "metadata": {},
   "outputs": [],
   "source": [
    "#Printing list of data topics from the World Bank\n",
    "wbd.get_topic()"
   ]
  },
  {
   "cell_type": "code",
   "execution_count": null,
   "metadata": {},
   "outputs": [],
   "source": [
    "#Agriculture and Rural Development\n",
    "wbd.search_indicators(\"\",topic=1)"
   ]
  },
  {
   "cell_type": "code",
   "execution_count": null,
   "metadata": {},
   "outputs": [],
   "source": [
    "#Aid Effectiveness\n",
    "wbd.search_indicators(\"\",topic=2)"
   ]
  },
  {
   "cell_type": "code",
   "execution_count": null,
   "metadata": {},
   "outputs": [],
   "source": [
    "#Economy and Growth\n",
    "wbd.search_indicators(\"\",topic=3)"
   ]
  },
  {
   "cell_type": "code",
   "execution_count": null,
   "metadata": {},
   "outputs": [],
   "source": [
    "#Education\n",
    "wbd.search_indicators(\"\",topic=4)"
   ]
  },
  {
   "cell_type": "code",
   "execution_count": null,
   "metadata": {},
   "outputs": [],
   "source": [
    "#Energy and Mining\n",
    "wbd.search_indicators(\"\",topic=5)"
   ]
  },
  {
   "cell_type": "code",
   "execution_count": null,
   "metadata": {},
   "outputs": [],
   "source": [
    "#Environment\n",
    "wbd.search_indicators(\"\",topic=6)"
   ]
  },
  {
   "cell_type": "code",
   "execution_count": null,
   "metadata": {},
   "outputs": [],
   "source": [
    "#Financial Services\n",
    "wbd.search_indicators(\"\",topic=7)"
   ]
  },
  {
   "cell_type": "code",
   "execution_count": null,
   "metadata": {},
   "outputs": [],
   "source": [
    "#Health\n",
    "wbd.search_indicators(\"\",topic=8)"
   ]
  },
  {
   "cell_type": "code",
   "execution_count": null,
   "metadata": {},
   "outputs": [],
   "source": [
    "#Infrastructure\n",
    "wbd.search_indicators(\"\",topic=9)"
   ]
  },
  {
   "cell_type": "code",
   "execution_count": null,
   "metadata": {},
   "outputs": [
    {
     "name": "stdout",
     "output_type": "stream",
     "text": [
      "per_si_allsi.avt_q5_tot       \tAverage per capita transfer held by 5th quintile (richest) - All Social Insurance\n",
      "per_si_allsi.avt_q5_urb       \tAverage per capita transfer held by 5th quintile (richest) - All Social Insurance -urban\n",
      "per_si_allsi.ben_ep_preT_tot  \tBenefits incidence in extreme poor (<$1.90 PPP a day) (%) - All Social Insurance  (preT)\n",
      "per_si_allsi.ben_ep_tot       \tBenefits incidence in extreme poor (<$1.90 PPP a day) (%) - All Social Insurance\n",
      "per_si_allsi.ben_q1_preT_tot  \tBenefits incidence in 1st quintile (poorest) (%) - All Social Insurance (preT)\n",
      "per_si_allsi.ben_q1_rur       \tBenefits incidence in 1st quintile (poorest) (%) - All Social Insurance -rural\n",
      "per_si_allsi.ben_q1_tot       \tBenefit incidence of social insurance programs to poorest quintile (% of total social insurance benefits)\n",
      "per_si_allsi.ben_q1_urb       \tBenefits incidence in 1st quintile (poorest) (%) - All Social Insurance -urban\n",
      "per_si_allsi.ben_q2_preT_tot  \tBenefits incidence in 2nd quintile (%) - All Social Insurance (preT)\n",
      "per_si_allsi.ben_q2_rur       \tBenefits incidence in 2nd quintile (%) - All Social Insurance -rural\n",
      "per_si_allsi.ben_q2_tot       \tBenefits incidence in 2nd quintile (%) - All Social Insurance \n",
      "per_si_allsi.ben_q2_urb       \tBenefits incidence in 2nd quintile (%) - All Social Insurance -urban\n",
      "per_si_allsi.ben_q3_preT_tot  \tBenefits incidence in 3rd quintile (%) - All Social Insurance (preT)\n",
      "per_si_allsi.ben_q3_rur       \tBenefits incidence in 3rd quintile (%) - All Social Insurance -rural\n",
      "per_si_allsi.ben_q3_tot       \tBenefits incidence in 3rd quintile (%) - All Social Insurance \n",
      "per_si_allsi.ben_q3_urb       \tBenefits incidence in 3rd quintile (%) - All Social Insurance -urban\n",
      "per_si_allsi.ben_q4_preT_tot  \tBenefits incidence in 4th quintile (%) - All Social Insurance (preT)\n",
      "per_si_allsi.ben_q4_rur       \tBenefits incidence in 4th quintile (%) - All Social Insurance -rural\n",
      "per_si_allsi.ben_q4_tot       \tBenefits incidence in 4th quintile (%) - All Social Insurance \n",
      "per_si_allsi.ben_q4_urb       \tBenefits incidence in 4th quintile (%) - All Social Insurance -urban\n",
      "per_si_allsi.ben_q5_preT_tot  \tBenefits incidence in 5th quintile (richest) (%) - All Social Insurance (preT)\n",
      "per_si_allsi.ben_q5_rur       \tBenefits incidence in 5th quintile (richest) (%) - All Social Insurance -rural\n",
      "per_si_allsi.ben_q5_tot       \tBenefits incidence in 5th quintile (richest) (%) - All Social Insurance\n",
      "per_si_allsi.ben_q5_urb       \tBenefits incidence in 5th quintile (richest) (%) - All Social Insurance -urban\n",
      "per_si_allsi.bry_ep_preT_tot  \tBeneficiary incidence in extreme poor (<$1.90 PPP a day) (%) - All Social Insurance  (preT)\n",
      "per_si_allsi.bry_ep_tot       \tBeneficiary incidence in extreme poor (<$1.90 PPP a day) (%) - All Social Insurance\n",
      "per_si_allsi.bry_q1_preT_tot  \tBeneficiary incidence in 1st quintile (poorest) (%) - All Social Insurance (preT)\n",
      "per_si_allsi.bry_q1_rur       \tBeneficiary incidence in 1st quintile (poorest) (%) - All Social Insurance -rural\n",
      "per_si_allsi.bry_q1_tot       \tBeneficiary incidence in 1st quintile (poorest) (%) - All Social Insurance\n",
      "per_si_allsi.bry_q1_urb       \tBeneficiary incidence in 1st quintile (poorest) (%) - All Social Insurance -urban\n",
      "per_si_allsi.bry_q2_preT_tot  \tBeneficiary incidence in 2nd quintile (%) - All Social Insurance (preT)\n",
      "per_si_allsi.bry_q2_rur       \tBeneficiary incidence in 2nd quintile (%) - All Social Insurance -rural\n",
      "per_si_allsi.bry_q2_tot       \tBeneficiary incidence in 2nd quintile (%) - All Social Insurance \n",
      "per_si_allsi.bry_q2_urb       \tBeneficiary incidence in 2nd quintile (%) - All Social Insurance -urban\n",
      "per_si_allsi.bry_q3_preT_tot  \tBeneficiary incidence in 3rd quintile (%) - All Social Insurance (preT)\n",
      "per_si_allsi.bry_q3_rur       \tBeneficiary incidence in 3rd quintile (%) - All Social Insurance -rural\n",
      "per_si_allsi.bry_q3_tot       \tBeneficiary incidence in 3rd quintile (%) - All Social Insurance \n",
      "per_si_allsi.bry_q3_urb       \tBeneficiary incidence in 3rd quintile (%) - All Social Insurance -urban\n",
      "per_si_allsi.bry_q4_preT_tot  \tBeneficiary incidence in 4th quintile (%) - All Social Insurance (preT)\n",
      "per_si_allsi.bry_q4_rur       \tBeneficiary incidence in 4th quintile (%) - All Social Insurance -rural\n",
      "per_si_allsi.bry_q4_tot       \tBeneficiary incidence in 4th quintile (%) - All Social Insurance \n",
      "per_si_allsi.bry_q4_urb       \tBeneficiary incidence in 4th quintile (%) - All Social Insurance -urban\n",
      "per_si_allsi.bry_q5_preT_tot  \tBeneficiary incidence in 5th quintile (richest) (%) - All Social Insurance (preT)\n",
      "per_si_allsi.bry_q5_rur       \tBeneficiary incidence in 5th quintile (richest) (%) - All Social Insurance -rural\n",
      "per_si_allsi.bry_q5_tot       \tBeneficiary incidence in 5th quintile (richest) (%) - All Social Insurance\n",
      "per_si_allsi.bry_q5_urb       \tBeneficiary incidence in 5th quintile (richest) (%) - All Social Insurance -urban\n",
      "per_si_allsi.cba_ep_preT_tot  \tBenefit-cost ratio -  All Social Insurance -extreme poor (<$1.90 PPP a day) (preT)\n",
      "per_si_allsi.cba_ep_tot       \tBenefit-cost ratio -  All Social Insurance -extreme poor (<$1.90 PPP a day)\n",
      "per_si_allsi.cba_q1_preT_tot  \tBenefit-cost ratio -  All Social Insurance -1st quintile (poorest) (preT)\n",
      "per_si_allsi.cba_q1_rur       \tBenefit-cost ratio -  All Social Insurance -1st quintile (poorest) -rural\n",
      "per_si_allsi.cba_q1_tot       \tBenefit-cost ratio -  All Social Insurance -1st quintile (poorest)\n",
      "per_si_allsi.cba_q1_urb       \tBenefit-cost ratio -  All Social Insurance - 1st quintile (poorest) -urban\n",
      "per_si_allsi.cov_ep_preT_tot  \tCoverage in extreme poor (<$1.90 PPP a day) (%) - All Social Insurance  (preT)\n",
      "per_si_allsi.cov_ep_tot       \tCoverage in extreme poor (<$1.90 PPP a day) (%) - All Social Insurance\n",
      "per_si_allsi.cov_pop_preT_tot \tCoverage (%) - All Social Insurance (preT)\n",
      "per_si_allsi.cov_pop_rur      \tCoverage (%) - All Social Insurance -rural\n",
      "per_si_allsi.cov_pop_tot      \tCoverage of social insurance programs (% of population)\n",
      "per_si_allsi.cov_pop_urb      \tCoverage (%) - All Social Insurance -urban\n",
      "per_si_allsi.cov_q1_preT_tot  \tCoverage in 1st quintile (poorest) (%) - All Social Insurance (preT)\n",
      "per_si_allsi.cov_q1_rur       \tCoverage in 1st quintile (poorest) (%) - All Social Insurance -rural\n",
      "per_si_allsi.cov_q1_tot       \tCoverage of social insurance programs in poorest quintile (% of population)\n",
      "per_si_allsi.cov_q1_urb       \tCoverage in 1st quintile (poorest) (%) - All Social Insurance -urban\n",
      "per_si_allsi.cov_q2_preT_tot  \tCoverage in 2nd quintile (%) - All Social Insurance (preT)\n",
      "per_si_allsi.cov_q2_rur       \tCoverage in 2nd quintile (%) - All Social Insurance -rural\n",
      "per_si_allsi.cov_q2_tot       \tCoverage of social insurance programs in 2nd quintile (% of population)\n",
      "per_si_allsi.cov_q2_urb       \tCoverage in 2nd quintile (%) - All Social Insurance -urban\n",
      "per_si_allsi.cov_q3_preT_tot  \tCoverage in 3rd quintile (%) - All Social Insurance (preT)\n",
      "per_si_allsi.cov_q3_rur       \tCoverage in 3rd quintile (%) - All Social Insurance -rural\n",
      "per_si_allsi.cov_q3_tot       \tCoverage of social insurance programs in 3rd quintile (% of population)\n",
      "per_si_allsi.cov_q3_urb       \tCoverage in 3rd quintile (%) - All Social Insurance -urban\n",
      "per_si_allsi.cov_q4_preT_tot  \tCoverage in 4th quintile (%) - All Social Insurance (preT)\n",
      "per_si_allsi.cov_q4_rur       \tCoverage in 4th quintile (%) - All Social Insurance -rural\n",
      "per_si_allsi.cov_q4_tot       \tCoverage of social insurance programs in 4th quintile (% of population)\n",
      "per_si_allsi.cov_q4_urb       \tCoverage in 4th quintile (%) - All Social Insurance -urban\n",
      "per_si_allsi.cov_q5_preT_tot  \tCoverage in 5th quintile (richest) (%) - All Social Insurance (preT)\n",
      "per_si_allsi.cov_q5_rur       \tCoverage in 5th quintile (richest) (%) - All Social Insurance -rural\n",
      "per_si_allsi.cov_q5_tot       \tCoverage of social insurance programs in richest quintile (% of population)\n",
      "per_si_allsi.cov_q5_urb       \tCoverage in 5th quintile (richest) (%) - All Social Insurance -urban\n",
      "per_si_allsi_gini_preT_tot    \tGini inequality index reduction (%) -  All Social Insurance (preT)\n",
      "per_si_allsi_gini_rur         \tGini inequality index reduction (%) -  All Social Insurance -rural\n",
      "per_si_allsi_gini_tot         \tGini inequality index reduction (%) -  All Social Insurance\n",
      "per_si_allsi_gini_urb         \tGini inequality index reduction (%) -  All Social Insurance -urban\n",
      "per_si_allsi_p0_ep_preT_tot   \tPoverty Headcount reduction (%) -  All Social Insurance -extreme poor (<$1.90 PPP a day) (preT)\n",
      "per_si_allsi_p0_ep_tot        \tPoverty Headcount reduction (%) -  All Social Insurance -extreme poor (<$1.90 PPP a day)\n",
      "per_si_allsi_p0_preT_tot      \tPoverty Headcount reduction (%) -  All Social Insurance -1st quintile (poorest) (preT)\n",
      "per_si_allsi_p0_rur           \tPoverty Headcount reduction (%) -  All Social Insurance -1st quintile (poorest) -rural\n",
      "per_si_allsi_p0_tot           \tPoverty Headcount reduction (%) -  All Social Insurance -1st quintile (poorest)\n",
      "per_si_allsi_p0_urb           \tPoverty Headcount reduction (%) -  All Social Insurance - 1st quintile (poorest) -urban\n",
      "per_si_allsi_p1_ep_preT_tot   \tPoverty Gap reduction (%) -  All Social Insurance -extreme poor (<$1.90 PPP a day) (preT)\n",
      "per_si_allsi_p1_ep_tot        \tPoverty Gap reduction (%) -  All Social Insurance -extreme poor (<$1.90 PPP a day)\n",
      "per_si_allsi_p1_preT_tot      \tPoverty Gap reduction (%) -  All Social Insurance -1st quintile (poorest) (preT)\n",
      "per_si_allsi_p1_rur           \tPoverty Gap reduction (%) -  All Social Insurance -1st quintile (poorest) -rural\n",
      "per_si_allsi_p1_tot           \tPoverty Gap reduction (%) -  All Social Insurance -1st quintile (poorest)\n",
      "per_si_allsi_p1_urb           \tPoverty Gap reduction (%) -  All Social Insurance - 1st quintile (poorest) -urban\n",
      "per_si_ss.adq_ep_preT_tot     \tAdequacy of benefits in extreme poor (<$1.90 PPP a day) (%) - Other Social Insurance  (preT)\n",
      "per_si_ss.adq_ep_tot          \tAdequacy of benefits in extreme poor (<$1.90 PPP a day) (%) - Other Social Insurance\n",
      "per_si_ss.adq_pop_preT_tot    \tAdequacy of benefits (%) - Other Social Insurance (preT)\n",
      "per_si_ss.adq_pop_rur         \tAdequacy of benefits (%) - Other Social Insurance -rural\n",
      "per_si_ss.adq_pop_tot         \tAdequacy of benefits (%) - Other Social Insurance \n",
      "per_si_ss.adq_pop_urb         \tAdequacy of benefits (%) - Other Social Insurance -urban\n",
      "per_si_ss.adq_q1_preT_tot     \tAdequacy of benefits in 1st quintile (poorest) (%) - Other Social Insurance (preT)\n",
      "per_si_ss.adq_q1_rur          \tAdequacy of benefits in 1st quintile (poorest) (%) - Other Social Insurance -rural\n",
      "per_si_ss.adq_q1_tot          \tAdequacy of benefits in 1st quintile (poorest) (%) - Other Social Insurance\n",
      "per_si_ss.adq_q1_urb          \tAdequacy of benefits in 1st quintile (poorest) (%) - Other Social Insurance -urban\n",
      "per_si_ss.adq_q2_preT_tot     \tAdequacy of benefits in 2nd quintile (%) - Other Social Insurance (preT)\n",
      "per_si_ss.adq_q2_rur          \tAdequacy of benefits in 2nd quintile (%) - Other Social Insurance -rural\n",
      "per_si_ss.adq_q2_tot          \tAdequacy of benefits in 2nd quintile (%) - Other Social Insurance \n",
      "per_si_ss.adq_q2_urb          \tAdequacy of benefits in 2nd quintile (%) - Other Social Insurance -urban\n",
      "per_si_ss.adq_q3_preT_tot     \tAdequacy of benefits in 3rd quintile (%) - Other Social Insurance (preT)\n",
      "per_si_ss.adq_q3_rur          \tAdequacy of benefits in 3rd quintile (%) - Other Social Insurance -rural\n",
      "per_si_ss.adq_q3_tot          \tAdequacy of benefits in 3rd quintile (%) - Other Social Insurance \n",
      "per_si_ss.adq_q3_urb          \tAdequacy of benefits in 3rd quintile (%) - Other Social Insurance -urban\n",
      "per_si_ss.adq_q4_preT_tot     \tAdequacy of benefits in 4th quintile (%) - Other Social Insurance (preT)\n",
      "per_si_ss.adq_q4_rur          \tAdequacy of benefits in 4th quintile (%) - Other Social Insurance -rural\n",
      "per_si_ss.adq_q4_tot          \tAdequacy of benefits in 4th quintile (%) - Other Social Insurance \n",
      "per_si_ss.adq_q4_urb          \tAdequacy of benefits in 4th quintile (%) - Other Social Insurance -urban\n",
      "per_si_ss.adq_q5_preT_tot     \tAdequacy of benefits in 5th quintile (richest) (%) - Other Social Insurance (preT)\n",
      "per_si_ss.adq_q5_rur          \tAdequacy of benefits in 5th quintile (richest) (%) - Other Social Insurance -rural\n",
      "per_si_ss.adq_q5_tot          \tAdequacy of benefits in 5th quintile (richest) (%) - Other Social Insurance\n",
      "per_si_ss.adq_q5_urb          \tAdequacy of benefits in 5th quintile (richest) (%) - Other Social Insurance -urban\n",
      "per_si_ss.avt_ep_preT_tot     \tAverage per capita transfer held by extreme poor (<$1.90 PPP a day) - Other Social Insurance  (preT)\n",
      "per_si_ss.avt_ep_tot          \tAverage per capita transfer held by extreme poor (<$1.90 PPP a day) - Other Social Insurance\n",
      "per_si_ss.avt_pop_preT_tot    \tAverage per capita transfer - Other Social Insurance (preT)\n",
      "per_si_ss.avt_pop_rur         \tAverage per capita transfer - Other Social Insurance -rural\n",
      "per_si_ss.avt_pop_tot         \tAverage per capita transfer - Other Social Insurance \n",
      "per_si_ss.avt_pop_urb         \tAverage per capita transfer - Other Social Insurance -urban\n",
      "per_si_ss.avt_q1_preT_tot     \tAverage per capita transfer held by 1st quintile (poorest) - Other Social Insurance (preT)\n",
      "per_si_ss.avt_q1_rur          \tAverage per capita transfer held by 1st quintile (poorest) - Other Social Insurance -rural\n",
      "per_si_ss.avt_q1_tot          \tAverage per capita transfer held by 1st quintile (poorest) - Other Social Insurance\n",
      "per_si_ss.avt_q1_urb          \tAverage per capita transfer held by 1st quintile (poorest) - Other Social Insurance -urban\n",
      "per_si_ss.avt_q2_preT_tot     \tAverage per capita transfer held by 2nd quintile - Other Social Insurance (preT)\n",
      "per_si_ss.avt_q2_rur          \tAverage per capita transfer held by 2nd quintile - Other Social Insurance -rural\n",
      "per_si_ss.avt_q2_tot          \tAverage per capita transfer held by 2nd quintile - Other Social Insurance \n",
      "per_si_ss.avt_q2_urb          \tAverage per capita transfer held by 2nd quintile - Other Social Insurance -urban\n",
      "per_si_ss.avt_q3_preT_tot     \tAverage per capita transfer held by 3rd quintile - Other Social Insurance (preT)\n",
      "per_si_ss.avt_q3_rur          \tAverage per capita transfer held by 3rd quintile - Other Social Insurance -rural\n",
      "per_si_ss.avt_q3_tot          \tAverage per capita transfer held by 3rd quintile - Other Social Insurance \n",
      "per_si_ss.avt_q3_urb          \tAverage per capita transfer held by 3rd quintile - Other Social Insurance -urban\n",
      "per_si_ss.avt_q4_preT_tot     \tAverage per capita transfer held by 4th quintile - Other Social Insurance (preT)\n",
      "per_si_ss.avt_q4_rur          \tAverage per capita transfer held by 4th quintile - Other Social Insurance -rural\n",
      "per_si_ss.avt_q4_tot          \tAverage per capita transfer held by 4th quintile - Other Social Insurance \n",
      "per_si_ss.avt_q4_urb          \tAverage per capita transfer held by 4th quintile - Other Social Insurance -urban\n",
      "per_si_ss.avt_q5_preT_tot     \tAverage per capita transfer held by 5th quintile (richest) - Other Social Insurance (preT)\n",
      "per_si_ss.avt_q5_rur          \tAverage per capita transfer held by 5th quintile (richest) - Other Social Insurance -rural\n",
      "per_si_ss.avt_q5_tot          \tAverage per capita transfer held by 5th quintile (richest) - Other Social Insurance\n",
      "per_si_ss.avt_q5_urb          \tAverage per capita transfer held by 5th quintile (richest) - Other Social Insurance -urban\n",
      "per_si_ss.ben_ep_preT_tot     \tBenefits incidence in extreme poor (<$1.90 PPP a day) (%) - Other Social Insurance  (preT)\n",
      "per_si_ss.ben_ep_tot          \tBenefits incidence in extreme poor (<$1.90 PPP a day) (%) - Other Social Insurance\n",
      "per_si_ss.ben_q1_preT_tot     \tBenefits incidence in 1st quintile (poorest) (%) - Other Social Insurance (preT)\n",
      "per_si_ss.ben_q1_rur          \tBenefits incidence in 1st quintile (poorest) (%) - Other Social Insurance -rural\n",
      "per_si_ss.ben_q1_tot          \tBenefits incidence in 1st quintile (poorest) (%) - Other Social Insurance\n",
      "per_si_ss.ben_q1_urb          \tBenefits incidence in 1st quintile (poorest) (%) - Other Social Insurance -urban\n",
      "per_si_ss.ben_q2_preT_tot     \tBenefits incidence in 2nd quintile (%) - Other Social Insurance (preT)\n",
      "per_si_ss.ben_q2_rur          \tBenefits incidence in 2nd quintile (%) - Other Social Insurance -rural\n",
      "per_si_ss.ben_q2_tot          \tBenefits incidence in 2nd quintile (%) - Other Social Insurance \n",
      "per_si_ss.ben_q2_urb          \tBenefits incidence in 2nd quintile (%) - Other Social Insurance -urban\n",
      "per_si_ss.ben_q3_preT_tot     \tBenefits incidence in 3rd quintile (%) - Other Social Insurance (preT)\n",
      "per_si_ss.ben_q3_rur          \tBenefits incidence in 3rd quintile (%) - Other Social Insurance -rural\n",
      "per_si_ss.ben_q3_tot          \tBenefits incidence in 3rd quintile (%) - Other Social Insurance \n",
      "per_si_ss.ben_q3_urb          \tBenefits incidence in 3rd quintile (%) - Other Social Insurance -urban\n",
      "per_si_ss.ben_q4_preT_tot     \tBenefits incidence in 4th quintile (%) - Other Social Insurance (preT)\n",
      "per_si_ss.ben_q4_rur          \tBenefits incidence in 4th quintile (%) - Other Social Insurance -rural\n",
      "per_si_ss.ben_q4_tot          \tBenefits incidence in 4th quintile (%) - Other Social Insurance \n",
      "per_si_ss.ben_q4_urb          \tBenefits incidence in 4th quintile (%) - Other Social Insurance -urban\n",
      "per_si_ss.ben_q5_preT_tot     \tBenefits incidence in 5th quintile (richest) (%) - Other Social Insurance (preT)\n",
      "per_si_ss.ben_q5_rur          \tBenefits incidence in 5th quintile (richest) (%) - Other Social Insurance -rural\n",
      "per_si_ss.ben_q5_tot          \tBenefits incidence in 5th quintile (richest) (%) - Other Social Insurance\n",
      "per_si_ss.ben_q5_urb          \tBenefits incidence in 5th quintile (richest) (%) - Other Social Insurance -urban\n",
      "per_si_ss.bry_ep_preT_tot     \tBeneficiary incidence in extreme poor (<$1.90 PPP a day) (%) - Other Social Insurance  (preT)\n",
      "per_si_ss.bry_ep_tot          \tBeneficiary incidence in extreme poor (<$1.90 PPP a day) (%) - Other Social Insurance\n",
      "per_si_ss.bry_q1_preT_tot     \tBeneficiary incidence in 1st quintile (poorest) (%) - Other Social Insurance (preT)\n",
      "per_si_ss.bry_q1_rur          \tBeneficiary incidence in 1st quintile (poorest) (%) - Other Social Insurance -rural\n",
      "per_si_ss.bry_q1_tot          \tBeneficiary incidence in 1st quintile (poorest) (%) - Other Social Insurance\n",
      "per_si_ss.bry_q1_urb          \tBeneficiary incidence in 1st quintile (poorest) (%) - Other Social Insurance -urban\n",
      "per_si_ss.bry_q2_preT_tot     \tBeneficiary incidence in 2nd quintile (%) - Other Social Insurance (preT)\n",
      "per_si_ss.bry_q2_rur          \tBeneficiary incidence in 2nd quintile (%) - Other Social Insurance -rural\n",
      "per_si_ss.bry_q2_tot          \tBeneficiary incidence in 2nd quintile (%) - Other Social Insurance \n",
      "per_si_ss.bry_q2_urb          \tBeneficiary incidence in 2nd quintile (%) - Other Social Insurance -urban\n",
      "per_si_ss.bry_q3_preT_tot     \tBeneficiary incidence in 3rd quintile (%) - Other Social Insurance (preT)\n",
      "per_si_ss.bry_q3_rur          \tBeneficiary incidence in 3rd quintile (%) - Other Social Insurance -rural\n",
      "per_si_ss.bry_q3_tot          \tBeneficiary incidence in 3rd quintile (%) - Other Social Insurance \n",
      "per_si_ss.bry_q3_urb          \tBeneficiary incidence in 3rd quintile (%) - Other Social Insurance -urban\n",
      "per_si_ss.bry_q4_preT_tot     \tBeneficiary incidence in 4th quintile (%) - Other Social Insurance (preT)\n",
      "per_si_ss.bry_q4_rur          \tBeneficiary incidence in 4th quintile (%) - Other Social Insurance -rural\n",
      "per_si_ss.bry_q4_tot          \tBeneficiary incidence in 4th quintile (%) - Other Social Insurance \n",
      "per_si_ss.bry_q4_urb          \tBeneficiary incidence in 4th quintile (%) - Other Social Insurance -urban\n",
      "per_si_ss.bry_q5_preT_tot     \tBeneficiary incidence in 5th quintile (richest) (%) - Other Social Insurance (preT)\n",
      "per_si_ss.bry_q5_rur          \tBeneficiary incidence in 5th quintile (richest) (%) - Other Social Insurance -rural\n",
      "per_si_ss.bry_q5_tot          \tBeneficiary incidence in 5th quintile (richest) (%) - Other Social Insurance\n",
      "per_si_ss.bry_q5_urb          \tBeneficiary incidence in 5th quintile (richest) (%) - Other Social Insurance -urban\n",
      "per_si_ss.cba_ep_preT_tot     \tBenefit-cost ratio -  Other Social Insurance -extreme poor (<$1.90 PPP a day) (preT)\n",
      "per_si_ss.cba_ep_tot          \tBenefit-cost ratio -  Other Social Insurance -extreme poor (<$1.90 PPP a day)\n",
      "per_si_ss.cba_q1_preT_tot     \tBenefit-cost ratio -  Other Social Insurance -1st quintile (poorest) (preT)\n",
      "per_si_ss.cba_q1_rur          \tBenefit-cost ratio -  Other Social Insurance -1st quintile (poorest) -rural\n",
      "per_si_ss.cba_q1_tot          \tBenefit-cost ratio -  Other Social Insurance -1st quintile (poorest)\n",
      "per_si_ss.cba_q1_urb          \tBenefit-cost ratio -  Other Social Insurance - 1st quintile (poorest) -urban\n",
      "per_si_ss.cov_ep_preT_tot     \tCoverage in extreme poor (<$1.90 PPP a day) (%) - Other Social Insurance  (preT)\n",
      "per_si_ss.cov_ep_tot          \tCoverage in extreme poor (<$1.90 PPP a day) (%) - Other Social Insurance\n",
      "per_si_ss.cov_pop_preT_tot    \tCoverage (%) - Other Social Insurance (preT)\n",
      "per_si_ss.cov_pop_rur         \tCoverage (%) - Other Social Insurance -rural\n",
      "per_si_ss.cov_pop_tot         \tCoverage (%) - Other Social Insurance \n",
      "per_si_ss.cov_pop_urb         \tCoverage (%) - Other Social Insurance -urban\n",
      "per_si_ss.cov_q1_preT_tot     \tCoverage in 1st quintile (poorest) (%) - Other Social Insurance (preT)\n",
      "per_si_ss.cov_q1_rur          \tCoverage in 1st quintile (poorest) (%) - Other Social Insurance -rural\n",
      "per_si_ss.cov_q1_tot          \tCoverage in 1st quintile (poorest) (%) - Other Social Insurance\n",
      "per_si_ss.cov_q1_urb          \tCoverage in 1st quintile (poorest) (%) - Other Social Insurance -urban\n",
      "per_si_ss.cov_q2_preT_tot     \tCoverage in 2nd quintile (%) - Other Social Insurance (preT)\n",
      "per_si_ss.cov_q2_rur          \tCoverage in 2nd quintile (%) - Other Social Insurance -rural\n",
      "per_si_ss.cov_q2_tot          \tCoverage in 2nd quintile (%) - Other Social Insurance \n",
      "per_si_ss.cov_q2_urb          \tCoverage in 2nd quintile (%) - Other Social Insurance -urban\n",
      "per_si_ss.cov_q3_preT_tot     \tCoverage in 3rd quintile (%) - Other Social Insurance (preT)\n",
      "per_si_ss.cov_q3_rur          \tCoverage in 3rd quintile (%) - Other Social Insurance -rural\n",
      "per_si_ss.cov_q3_tot          \tCoverage in 3rd quintile (%) - Other Social Insurance \n",
      "per_si_ss.cov_q3_urb          \tCoverage in 3rd quintile (%) - Other Social Insurance -urban\n",
      "per_si_ss.cov_q4_preT_tot     \tCoverage in 4th quintile (%) - Other Social Insurance (preT)\n",
      "per_si_ss.cov_q4_rur          \tCoverage in 4th quintile (%) - Other Social Insurance -rural\n",
      "per_si_ss.cov_q4_tot          \tCoverage in 4th quintile (%) - Other Social Insurance \n",
      "per_si_ss.cov_q4_urb          \tCoverage in 4th quintile (%) - Other Social Insurance -urban\n",
      "per_si_ss.cov_q5_preT_tot     \tCoverage in 5th quintile (richest) (%) - Other Social Insurance (preT)\n",
      "per_si_ss.cov_q5_rur          \tCoverage in 5th quintile (richest) (%) - Other Social Insurance -rural\n",
      "per_si_ss.cov_q5_tot          \tCoverage in 5th quintile (richest) (%) - Other Social Insurance\n",
      "per_si_ss.cov_q5_urb          \tCoverage in 5th quintile (richest) (%) - Other Social Insurance -urban\n",
      "per_si_ss_gini_preT_tot       \tGini inequality index reduction (%) -  Other Social Insurance (preT)\n",
      "per_si_ss_gini_rur            \tGini inequality index reduction (%) -  Other Social Insurance -rural\n",
      "per_si_ss_gini_tot            \tGini inequality index reduction (%) -  Other Social Insurance\n",
      "per_si_ss_gini_urb            \tGini inequality index reduction (%) -  Other Social Insurance -urban\n",
      "per_si_ss_p0_ep_preT_tot      \tPoverty Headcount reduction (%) -  Other Social Insurance -extreme poor (<$1.90 PPP a day) (preT)\n",
      "per_si_ss_p0_ep_tot           \tPoverty Headcount reduction (%) -  Other Social Insurance -extreme poor (<$1.90 PPP a day)\n",
      "per_si_ss_p0_preT_tot         \tPoverty Headcount reduction (%) -  Other Social Insurance -1st quintile (poorest) (preT)\n",
      "per_si_ss_p0_rur              \tPoverty Headcount reduction (%) -  Other Social Insurance -1st quintile (poorest) -rural\n",
      "per_si_ss_p0_tot              \tPoverty Headcount reduction (%) -  Other Social Insurance -1st quintile (poorest)\n",
      "per_si_ss_p0_urb              \tPoverty Headcount reduction (%) -  Other Social Insurance - 1st quintile (poorest) -urban\n",
      "per_si_ss_p1_ep_preT_tot      \tPoverty Gap reduction (%) -  Other Social Insurance -extreme poor (<$1.90 PPP a day) (preT)\n",
      "per_si_ss_p1_ep_tot           \tPoverty Gap reduction (%) -  Other Social Insurance -extreme poor (<$1.90 PPP a day)\n",
      "per_si_ss_p1_preT_tot         \tPoverty Gap reduction (%) -  Other Social Insurance -1st quintile (poorest) (preT)\n",
      "per_si_ss_p1_rur              \tPoverty Gap reduction (%) -  Other Social Insurance -1st quintile (poorest) -rural\n",
      "per_si_ss_p1_tot              \tPoverty Gap reduction (%) -  Other Social Insurance -1st quintile (poorest)\n",
      "per_si_ss_p1_urb              \tPoverty Gap reduction (%) -  Other Social Insurance - 1st quintile (poorest) -urban\n",
      "per_silm.overlap_ep_preT_tot  \tPopulation in extreme poor (<$1.90 PPP a day) receiving All Social Insurance and Labor Market (%, preT)\n",
      "per_silm.overlap_ep_tot       \tPopulation in extreme poor (<$1.90 PPP a day) receiving All Social Insurance and Labor Market (%)\n",
      "per_silm.overlap_pop_preT_tot \tPopulation receiving All Social Insurance and Labor Market (%, preT)\n",
      "per_silm.overlap_pop_rur      \tPopulation receiving All Social Insurance and Labor Market (%) -rural\n",
      "per_silm.overlap_pop_tot      \tPopulation receiving All Social Insurance and Labor Market (%)\n",
      "per_silm.overlap_pop_urb      \tPopulation receiving All Social Insurance and Labor Market (%) -urban\n",
      "per_silm.overlap_q1_preT_tot  \tPopulation in the 1st quintile (poorest) receiving All Social Insurance and Labor Market (%, preT)\n",
      "per_silm.overlap_q1_rur       \tPopulation in the 1st quintile (poorest) receiving All Social Insurance and Labor Market (%) -rural\n",
      "per_silm.overlap_q1_tot       \tPopulation in the 1st quintile (poorest) receiving All Social Insurance and Labor Market (%)\n",
      "per_silm.overlap_q1_urb       \tPopulation in the 1st quintile (poorest) receiving All Social Insurance and Labor Market (%) -urban\n",
      "per_sionl.overlap_ep_preT_tot \tPopulation in extreme poor (<$1.90 PPP a day) only receiving All Social Insurance (%, preT)\n",
      "per_sionl.overlap_ep_tot      \tPopulation in extreme poor (<$1.90 PPP a day) only receiving All Social Insurance (%)\n",
      "per_sionl.overlap_pop_preT_tot\tPopulation only receiving All Social Insurance (%, preT)\n",
      "per_sionl.overlap_pop_rur     \tPopulation only receiving All Social Insurance (%) -rural\n",
      "per_sionl.overlap_pop_tot     \tPopulation only receiving All Social Insurance (%)\n",
      "per_sionl.overlap_pop_urb     \tPopulation only receiving All Social Insurance (%) -urban\n",
      "per_sionl.overlap_q1_preT_tot \tPopulation in the 1st quintile (poorest) only receiving All Social Insurance (%, preT)\n",
      "per_sionl.overlap_q1_rur      \tPopulation in the 1st quintile (poorest) only receiving All Social Insurance (%) -rural\n",
      "per_sionl.overlap_q1_tot      \tPopulation in the 1st quintile (poorest) only receiving All Social Insurance (%)\n",
      "per_sionl.overlap_q1_urb      \tPopulation in the 1st quintile (poorest) only receiving All Social Insurance (%) -urban\n",
      "SL.AGR.0714.FE.ZS             \tChild employment in agriculture, female (% of female economically active children ages 7-14)\n",
      "SL.AGR.0714.MA.ZS             \tChild employment in agriculture, male (% of male economically active children ages 7-14)\n",
      "SL.AGR.0714.ZS                \tChild employment in agriculture (% of economically active children ages 7-14)\n",
      "SL.AGR.EMPL.FE.ZS             \tEmployment in agriculture, female (% of female employment) (modeled ILO estimate)\n",
      "SL.AGR.EMPL.MA.ZS             \tEmployment in agriculture, male (% of male employment) (modeled ILO estimate)\n",
      "SL.AGR.EMPL.ZS                \tEmployment in agriculture (% of total employment) (modeled ILO estimate)\n",
      "SL.EMP.1524.SP.FE.NE.ZS       \tEmployment to population ratio, ages 15-24, female (%) (national estimate)\n",
      "SL.EMP.1524.SP.FE.ZS          \tEmployment to population ratio, ages 15-24, female (%) (modeled ILO estimate)\n",
      "SL.EMP.1524.SP.MA.NE.ZS       \tEmployment to population ratio, ages 15-24, male (%) (national estimate)\n",
      "SL.EMP.1524.SP.MA.ZS          \tEmployment to population ratio, ages 15-24, male (%) (modeled ILO estimate)\n",
      "SL.EMP.1524.SP.NE.ZS          \tEmployment to population ratio, ages 15-24, total (%) (national estimate)\n",
      "SL.EMP.1524.SP.ZS             \tEmployment to population ratio, ages 15-24, total (%) (modeled ILO estimate)\n",
      "SL.EMP.INSV.FE.ZS             \tShare of women in wage employment in the nonagricultural sector (% of total nonagricultural employment)\n",
      "SL.EMP.MPYR.FE.ZS             \tEmployers, female (% of female employment) (modeled ILO estimate)\n",
      "SL.EMP.MPYR.MA.ZS             \tEmployers, male (% of male employment) (modeled ILO estimate)\n",
      "SL.EMP.MPYR.ZS                \tEmployers, total (% of total employment) (modeled ILO estimate)\n",
      "SL.EMP.SELF.FE.ZS             \tSelf-employed, female (% of female employment) (modeled ILO estimate)\n",
      "SL.EMP.SELF.MA.ZS             \tSelf-employed, male (% of male employment) (modeled ILO estimate)\n",
      "SL.EMP.SELF.ZS                \tSelf-employed, total (% of total employment) (modeled ILO estimate)\n",
      "SL.EMP.SMGT.FE.ZS             \tFemale share of employment in senior and middle management (%) \n",
      "SL.EMP.TOTL.SP.FE.NE.ZS       \tEmployment to population ratio, 15+, female (%) (national estimate)\n",
      "SL.EMP.TOTL.SP.FE.ZS          \tEmployment to population ratio, 15+, female (%) (modeled ILO estimate)\n",
      "SL.EMP.TOTL.SP.MA.NE.ZS       \tEmployment to population ratio, 15+, male (%) (national estimate)\n",
      "SL.EMP.TOTL.SP.MA.ZS          \tEmployment to population ratio, 15+, male (%) (modeled ILO estimate)\n",
      "SL.EMP.TOTL.SP.NE.ZS          \tEmployment to population ratio, 15+, total (%) (national estimate)\n",
      "SL.EMP.TOTL.SP.ZS             \tEmployment to population ratio, 15+, total (%) (modeled ILO estimate)\n",
      "SL.EMP.VULN.FE.ZS             \tVulnerable employment, female (% of female employment) (modeled ILO estimate)\n",
      "SL.EMP.VULN.MA.ZS             \tVulnerable employment, male (% of male employment) (modeled ILO estimate)\n",
      "SL.EMP.VULN.ZS                \tVulnerable employment, total (% of total employment) (modeled ILO estimate)\n",
      "SL.EMP.WORK.FE.ZS             \tWage and salaried workers, female (% of female employment) (modeled ILO estimate)\n",
      "SL.EMP.WORK.MA.ZS             \tWage and salaried workers, male (% of male employment) (modeled ILO estimate)\n",
      "SL.EMP.WORK.ZS                \tWage and salaried workers, total (% of total employment) (modeled ILO estimate)\n",
      "SL.FAM.0714.FE.ZS             \tChildren in employment, unpaid family workers, female (% of female children in employment, ages 7-14)\n",
      "SL.FAM.0714.MA.ZS             \tChildren in employment, unpaid family workers, male (% of male children in employment, ages 7-14)\n",
      "SL.FAM.0714.ZS                \tChildren in employment, unpaid family workers (% of children in employment, ages 7-14)\n",
      "SL.FAM.WORK.FE.ZS             \tContributing family workers, female (% of female employment) (modeled ILO estimate)\n",
      "SL.FAM.WORK.MA.ZS             \tContributing family workers, male (% of male employment) (modeled ILO estimate)\n",
      "SL.FAM.WORK.ZS                \tContributing family workers, total (% of total employment) (modeled ILO estimate)\n",
      "SL.GDP.PCAP.EM.KD             \tGDP per person employed (constant 2017 PPP $)\n",
      "SL.IND.EMPL.FE.ZS             \tEmployment in industry, female (% of female employment) (modeled ILO estimate)\n",
      "SL.IND.EMPL.MA.ZS             \tEmployment in industry, male (% of male employment) (modeled ILO estimate)\n",
      "SL.IND.EMPL.ZS                \tEmployment in industry (% of total employment) (modeled ILO estimate)\n",
      "SL.ISV.IFRM.FE.ZS             \tInformal employment, female (% of total non-agricultural employment)\n",
      "SL.ISV.IFRM.MA.ZS             \tInformal employment, male (% of total non-agricultural employment)\n",
      "SL.ISV.IFRM.ZS                \tInformal employment (% of total non-agricultural employment)\n",
      "SL.MNF.0714.FE.ZS             \tChild employment in manufacturing, female (% of female economically active children ages 7-14)\n",
      "SL.MNF.0714.MA.ZS             \tChild employment in manufacturing, male (% of male economically active children ages 7-14)\n",
      "SL.MNF.0714.ZS                \tChild employment in manufacturing (% of economically active children ages 7-14)\n",
      "SL.MNF.WAGE.FM                \tRatio of female to male wages in manufacturing (%)\n",
      "SL.SLF.0714.FE.ZS             \tChildren in employment, self-employed, female (% of female children in employment, ages 7-14)\n",
      "SL.SLF.0714.MA.ZS             \tChildren in employment, self-employed, male (% of male children in employment, ages 7-14)\n",
      "SL.SLF.0714.ZS                \tChildren in employment, self-employed (% of children in employment, ages 7-14)\n",
      "SL.SRV.0714.FE.ZS             \tChild employment in services, female (% of female economically active children ages 7-14)\n",
      "SL.SRV.0714.MA.ZS             \tChild employment in services, male (% of male economically active children ages 7-14)\n",
      "SL.SRV.0714.ZS                \tChild employment in services (% of economically active children ages 7-14)\n",
      "SL.SRV.EMPL.FE.ZS             \tEmployment in services, female (% of female employment) (modeled ILO estimate)\n",
      "SL.SRV.EMPL.MA.ZS             \tEmployment in services, male (% of male employment) (modeled ILO estimate)\n",
      "SL.SRV.EMPL.ZS                \tEmployment in services (% of total employment) (modeled ILO estimate)\n",
      "SL.TLF.0714.FE.ZS             \tChildren in employment, female (% of female children ages 7-14)\n",
      "SL.TLF.0714.MA.ZS             \tChildren in employment, male (% of male children ages 7-14)\n",
      "SL.TLF.0714.SW.FE.TM          \tAverage working hours of children, study and work, female, ages 7-14 (hours per week)\n",
      "SL.TLF.0714.SW.FE.ZS          \tChildren in employment, study and work, female (% of female children in employment, ages 7-14)\n",
      "SL.TLF.0714.SW.MA.TM          \tAverage working hours of children, study and work, male, ages 7-14 (hours per week)\n",
      "SL.TLF.0714.SW.MA.ZS          \tChildren in employment, study and work, male (% of male children in employment, ages 7-14)\n",
      "SL.TLF.0714.SW.TM             \tAverage working hours of children, study and work, ages 7-14 (hours per week)\n",
      "SL.TLF.0714.SW.ZS             \tChildren in employment, study and work (% of children in employment, ages 7-14)\n",
      "SL.TLF.0714.WK.FE.TM          \tAverage working hours of children, working only, female, ages 7-14 (hours per week)\n",
      "SL.TLF.0714.WK.FE.ZS          \tChildren in employment, work only, female (% of female children in employment, ages 7-14)\n",
      "SL.TLF.0714.WK.MA.TM          \tAverage working hours of children, working only, male, ages 7-14 (hours per week)\n",
      "SL.TLF.0714.WK.MA.ZS          \tChildren in employment, work only, male (% of male children in employment, ages 7-14)\n",
      "SL.TLF.0714.WK.TM             \tAverage working hours of children, working only, ages 7-14 (hours per week)\n",
      "SL.TLF.0714.WK.ZS             \tChildren in employment, work only (% of children in employment, ages 7-14)\n",
      "SL.TLF.0714.ZS                \tChildren in employment, total (% of children ages 7-14)\n",
      "SL.TLF.1564.FE.IN             \tLabor force (15-64 years), female\n",
      "SL.TLF.1564.FE.ZS             \tLabor force (15-64 years), female (% of total labor force 15-64 years)\n",
      "SL.TLF.1564.IN                \tLabor force (15-64 years), total\n",
      "SL.TLF.1564.MA.IN             \tLabor force (15-64 years), male\n",
      "SL.TLF.1564.MA.ZS             \tLabor force (15-64 years), male (% of total labor force 15-64 years)\n",
      "SL.TLF.ACTI.1524.FE.NE.ZS     \tLabor force participation rate for ages 15-24, female (%) (national estimate)\n",
      "SL.TLF.ACTI.1524.FE.ZS        \tLabor force participation rate for ages 15-24, female (%) (modeled ILO estimate)\n",
      "SL.TLF.ACTI.1524.MA.NE.ZS     \tLabor force participation rate for ages 15-24, male (%) (national estimate)\n",
      "SL.TLF.ACTI.1524.MA.ZS        \tLabor force participation rate for ages 15-24, male (%) (modeled ILO estimate)\n",
      "SL.TLF.ACTI.1524.NE.ZS        \tLabor force participation rate for ages 15-24, total (%) (national estimate)\n",
      "SL.TLF.ACTI.1524.ZS           \tLabor force participation rate for ages 15-24, total (%) (modeled ILO estimate)\n",
      "SL.TLF.ACTI.FE.ZS             \tLabor force participation rate, female (% of female population ages 15-64) (modeled ILO estimate)\n",
      "SL.TLF.ACTI.MA.ZS             \tLabor force participation rate, male (% of male population ages 15-64) (modeled ILO estimate)\n",
      "SL.TLF.ACTI.ZS                \tLabor force participation rate, total (% of total population ages 15-64) (modeled ILO estimate)\n",
      "SL.TLF.ADVN.FE.ZS             \tLabor force with advanced education, female (% of female working-age population with advanced education)\n",
      "SL.TLF.ADVN.MA.ZS             \tLabor force with advanced education, male (% of male working-age population with advanced education)\n",
      "SL.TLF.ADVN.ZS                \tLabor force with advanced education (% of total working-age population with advanced education)\n",
      "SL.TLF.BASC.FE.ZS             \tLabor force with basic education, female (% of female working-age population with basic education)\n",
      "SL.TLF.BASC.MA.ZS             \tLabor force with basic education, male (% of male working-age population with basic education)\n",
      "SL.TLF.BASC.ZS                \tLabor force with basic education (% of total working-age population with basic education)\n",
      "SL.TLF.CACT.FE.NE.ZS          \tLabor force participation rate, female (% of female population ages 15+) (national estimate)\n",
      "SL.TLF.CACT.FE.ZS             \tLabor force participation rate, female (% of female population ages 15+) (modeled ILO estimate)\n",
      "SL.TLF.CACT.FM.NE.ZS          \tRatio of female to male labor force participation rate (%) (national estimate)\n",
      "SL.TLF.CACT.FM.ZS             \tRatio of female to male labor force participation rate (%) (modeled ILO estimate)\n",
      "SL.TLF.CACT.MA.NE.ZS          \tLabor force participation rate, male (% of male population ages 15+) (national estimate)\n",
      "SL.TLF.CACT.MA.ZS             \tLabor force participation rate, male (% of male population ages 15+) (modeled ILO estimate)\n",
      "SL.TLF.CACT.NE.ZS             \tLabor force participation rate, total (% of total population ages 15+) (national estimate)\n",
      "SL.TLF.CACT.ZS                \tLabor force participation rate, total (% of total population ages 15+) (modeled ILO estimate)\n",
      "SL.TLF.INTM.FE.ZS             \tLabor force with intermediate education, female (% of female working-age population with intermediate education)\n",
      "SL.TLF.INTM.MA.ZS             \tLabor force with intermediate education, male (% of male working-age population with intermediate education)\n",
      "SL.TLF.INTM.ZS                \tLabor force with intermediate education (% of total working-age population with intermediate education)\n",
      "SL.TLF.PART.FE.ZS             \tPart time employment, female (% of total female employment)\n",
      "SL.TLF.PART.MA.ZS             \tPart time employment, male (% of total male employment)\n",
      "SL.TLF.PART.TL.FE.ZS          \tPart time employment, female (% of total part time employment)\n",
      "SL.TLF.PART.ZS                \tPart time employment, total (% of total employment)\n",
      "SL.TLF.PRIM.FE.ZS             \tLabor force with primary education, female (% of female labor force)\n",
      "SL.TLF.PRIM.MA.ZS             \tLabor force with primary education, male (% of male labor force)\n",
      "SL.TLF.PRIM.ZS                \tLabor force with primary education (% of total)\n",
      "SL.TLF.SECO.FE.ZS             \tLabor force with secondary education, female (% of female labor force)\n",
      "SL.TLF.SECO.MA.ZS             \tLabor force with secondary education, male (% of male labor force)\n",
      "SL.TLF.SECO.ZS                \tLabor force with secondary education (% of total)\n",
      "SL.TLF.TERT.FE.ZS             \tLabor force with tertiary education, female (% of female labor force)\n",
      "SL.TLF.TERT.MA.ZS             \tLabor force with tertiary education, male (% of male labor force)\n",
      "SL.TLF.TERT.ZS                \tLabor force with tertiary education (% of total)\n",
      "SL.TLF.TOTL.FE.ZS             \tLabor force, female (% of total labor force)\n",
      "SL.TLF.TOTL.IN                \tLabor force, total\n",
      "SL.UEM.1524.FE.NE.ZS          \tUnemployment, youth female (% of female labor force ages 15-24) (national estimate)\n",
      "SL.UEM.1524.FE.ZS             \tUnemployment, youth female (% of female labor force ages 15-24) (modeled ILO estimate)\n",
      "SL.UEM.1524.MA.NE.ZS          \tUnemployment, youth male (% of male labor force ages 15-24) (national estimate)\n",
      "SL.UEM.1524.MA.ZS             \tUnemployment, youth male (% of male labor force ages 15-24) (modeled ILO estimate)\n",
      "SL.UEM.1524.NE.ZS             \tUnemployment, youth total (% of total labor force ages 15-24) (national estimate)\n",
      "SL.UEM.1524.ZS                \tUnemployment, youth total (% of total labor force ages 15-24) (modeled ILO estimate)\n",
      "SL.UEM.ADVN.FE.ZS             \tUnemployment with advanced education, female (% of female labor force with advanced education)\n",
      "SL.UEM.ADVN.MA.ZS             \tUnemployment with advanced education, male (% of male labor force with advanced education)\n",
      "SL.UEM.ADVN.ZS                \tUnemployment with advanced education (% of total labor force with advanced education)\n",
      "SL.UEM.BASC.FE.ZS             \tUnemployment with basic education, female (% of female labor force with basic education)\n",
      "SL.UEM.BASC.MA.ZS             \tUnemployment with basic education, male (% of male labor force with basic education)\n",
      "SL.UEM.BASC.ZS                \tUnemployment with basic education (% of total labor force with basic education)\n",
      "SL.UEM.INTM.FE.ZS             \tUnemployment with intermediate education, female (% of female labor force with intermediate education)\n",
      "SL.UEM.INTM.MA.ZS             \tUnemployment with intermediate education, male (% of male labor force with intermediate education)\n",
      "SL.UEM.INTM.ZS                \tUnemployment with intermediate education (% of total labor force with intermediate education)\n",
      "SL.UEM.LTRM.FE.ZS             \tLong-term unemployment, female (% of female unemployment)\n",
      "SL.UEM.LTRM.MA.ZS             \tLong-term unemployment, male (% of male unemployment)\n",
      "SL.UEM.LTRM.ZS                \tLong-term unemployment (% of total unemployment)\n",
      "SL.UEM.NEET.FE.ZS             \tShare of youth not in education, employment or training, female (% of female youth population)\n",
      "SL.UEM.NEET.MA.ZS             \tShare of youth not in education, employment or training, male (% of male youth population)\n",
      "SL.UEM.NEET.ZS                \tShare of youth not in education, employment or training, total (% of youth population)\n",
      "SL.UEM.PRIM.FE.ZS             \tUnemployment with primary education, female (% of female unemployment)\n",
      "SL.UEM.PRIM.MA.ZS             \tUnemployment with primary education, male (% of male unemployment)\n",
      "SL.UEM.PRIM.ZS                \tUnemployment with primary education (% of total unemployment)\n",
      "SL.UEM.SECO.FE.ZS             \tUnemployment with secondary education, female (% of female unemployment)\n",
      "SL.UEM.SECO.MA.ZS             \tUnemployment with secondary education, male (% of male unemployment)\n",
      "SL.UEM.SECO.ZS                \tUnemployment with secondary education (% of total unemployment)\n",
      "SL.UEM.TERT.FE.ZS             \tUnemployment with tertiary education, female (% of female unemployment)\n",
      "SL.UEM.TERT.MA.ZS             \tUnemployment with tertiary education, male (% of male unemployment)\n",
      "SL.UEM.TERT.ZS                \tUnemployment with tertiary education (% of total unemployment)\n",
      "SL.UEM.TOTL.FE.NE.ZS          \tUnemployment, female (% of female labor force) (national estimate)\n",
      "SL.UEM.TOTL.FE.ZS             \tUnemployment, female (% of female labor force) (modeled ILO estimate)\n",
      "SL.UEM.TOTL.MA.NE.ZS          \tUnemployment, male (% of male labor force) (national estimate)\n",
      "SL.UEM.TOTL.MA.ZS             \tUnemployment, male (% of male labor force) (modeled ILO estimate)\n",
      "SL.UEM.TOTL.NE.ZS             \tUnemployment, total (% of total labor force) (national estimate)\n",
      "SL.UEM.TOTL.ZS                \tUnemployment, total (% of total labor force) (modeled ILO estimate)\n",
      "SL.WAG.0714.FE.ZS             \tChildren in employment, wage workers, female (% of female children in employment, ages 7-14)\n",
      "SL.WAG.0714.MA.ZS             \tChildren in employment, wage workers, male (% of male children in employment, ages 7-14)\n",
      "SL.WAG.0714.ZS                \tChildren in employment, wage workers (% of children in employment, ages 7-14)\n"
     ]
    }
   ],
   "source": [
    "#Social Protection and Labour\n",
    "wbd.search_indicators(\"\",topic=10)"
   ]
  },
  {
   "cell_type": "code",
   "execution_count": null,
   "metadata": {},
   "outputs": [],
   "source": [
    "#Poverty\n",
    "wbd.search_indicators(\"\",topic=11)"
   ]
  },
  {
   "cell_type": "code",
   "execution_count": null,
   "metadata": {},
   "outputs": [],
   "source": [
    "#Private Sector\n",
    "wbd.search_indicators(\"\",topic=12)"
   ]
  },
  {
   "cell_type": "code",
   "execution_count": null,
   "metadata": {},
   "outputs": [],
   "source": [
    "#Public Sector\n",
    "wbd.search_indicators(\"\",topic=13)"
   ]
  },
  {
   "cell_type": "code",
   "execution_count": null,
   "metadata": {},
   "outputs": [],
   "source": [
    "#Science and Technology\n",
    "wbd.search_indicators(\"\",topic=14)"
   ]
  },
  {
   "cell_type": "code",
   "execution_count": null,
   "metadata": {},
   "outputs": [],
   "source": [
    "#Social Development\n",
    "wbd.search_indicators(\"\",topic=15)"
   ]
  },
  {
   "cell_type": "code",
   "execution_count": null,
   "metadata": {},
   "outputs": [],
   "source": [
    "#Urban Development\n",
    "wbd.search_indicators(\"\",topic=16)"
   ]
  },
  {
   "cell_type": "code",
   "execution_count": null,
   "metadata": {},
   "outputs": [],
   "source": [
    "#Gender\n",
    "wbd.search_indicators(\"\",topic=17)"
   ]
  },
  {
   "cell_type": "code",
   "execution_count": null,
   "metadata": {},
   "outputs": [],
   "source": [
    "#Millenium Development Goals\n",
    "wbd.search_indicators(\"\",topic=18)"
   ]
  },
  {
   "cell_type": "code",
   "execution_count": null,
   "metadata": {},
   "outputs": [],
   "source": [
    "#Climate Change\n",
    "wbd.search_indicators(\"\",topic=19)"
   ]
  },
  {
   "cell_type": "code",
   "execution_count": null,
   "metadata": {},
   "outputs": [],
   "source": [
    "#Importing list of Indicator IDs\n",
    "indicators_df = pd.read_excel(\"World Bank Indicators.xlsx\",sheet_name=\"Sheet1\")\n",
    "indicators_df.head()"
   ]
  },
  {
   "cell_type": "code",
   "execution_count": null,
   "metadata": {},
   "outputs": [],
   "source": [
    "indicators_df.shape"
   ]
  },
  {
   "cell_type": "code",
   "execution_count": null,
   "metadata": {},
   "outputs": [],
   "source": [
    "#Dropping any duplicates and NaN values\n",
    "indicators_df.drop_duplicates(inplace=True)\n",
    "indicators_df.dropna(inplace=True)\n",
    "indicators_df.shape"
   ]
  },
  {
   "cell_type": "code",
   "execution_count": null,
   "metadata": {},
   "outputs": [],
   "source": [
    "#Creating a list of indicator IDs\n",
    "indicators_list = indicators_df[\"Indicator ID\"].tolist()"
   ]
  },
  {
   "cell_type": "code",
   "execution_count": null,
   "metadata": {},
   "outputs": [],
   "source": [
    "#Removing whitespace in Indicator list\n",
    "for i in range(len(indicators_list)):\n",
    "    indicators_list[i] = indicators_list[i].strip()"
   ]
  },
  {
   "cell_type": "code",
   "execution_count": null,
   "metadata": {},
   "outputs": [],
   "source": [
    "#Creating a datetime variable 13th April\n",
    "data_date = (datetime.datetime(2012,4,13),datetime.datetime(2020,4,13))\n",
    "data_date"
   ]
  },
  {
   "cell_type": "code",
   "execution_count": null,
   "metadata": {},
   "outputs": [],
   "source": [
    "#Querying the World Bank Database\n",
    "#world_bank_data = wbd.get_dataframe(indicators_dict,country_id,data_date)\n",
    "#world_bank_data\n",
    "len(indicators_list)"
   ]
  },
  {
   "cell_type": "code",
   "execution_count": null,
   "metadata": {},
   "outputs": [],
   "source": [
    "wbd_used_cols = Series(indicators_list)\n",
    "wbd_used_cols.sort_values(inplace=True)\n",
    "wbd_used_cols.to_excel(\"wbd_used_cols.xlsx\")"
   ]
  },
  {
   "cell_type": "code",
   "execution_count": null,
   "metadata": {},
   "outputs": [],
   "source": [
    "#Checking for indicators that I can obtain data for\n",
    "for i in indicators_list:\n",
    "    ind_dict = {i:i}\n",
    "    try:\n",
    "        world_bank_data = wbd.get_dataframe(ind_dict,country_id,data_date)\n",
    "    except:\n",
    "        indicators_list.remove(i)\n",
    "        print(i)\n",
    "        \n",
    "for i in indicators_list:\n",
    "    ind_dict = {i:i}\n",
    "    try:\n",
    "        world_bank_data = wbd.get_dataframe(ind_dict,country_id,data_date)\n",
    "    except:\n",
    "        indicators_list.remove(i)\n",
    "        print(i)"
   ]
  },
  {
   "cell_type": "code",
   "execution_count": null,
   "metadata": {},
   "outputs": [],
   "source": [
    "len(indicators_list)"
   ]
  },
  {
   "cell_type": "code",
   "execution_count": null,
   "metadata": {},
   "outputs": [],
   "source": [
    "indicators_dict = dict(zip(indicators_list,indicators_list))"
   ]
  },
  {
   "cell_type": "code",
   "execution_count": null,
   "metadata": {},
   "outputs": [],
   "source": [
    "world_bank_data = wbd.get_dataframe(indicators_dict,country_id,data_date)\n",
    "world_bank_data\n",
    "#world_bank_data"
   ]
  },
  {
   "cell_type": "code",
   "execution_count": null,
   "metadata": {},
   "outputs": [],
   "source": [
    "world_bank_data.columns"
   ]
  },
  {
   "cell_type": "code",
   "execution_count": null,
   "metadata": {},
   "outputs": [],
   "source": []
  },
  {
   "cell_type": "code",
   "execution_count": null,
   "metadata": {},
   "outputs": [],
   "source": [
    "idx = pd.IndexSlice\n",
    "world_bank_data = world_bank_data.loc[idx[country_df.index, :], :]"
   ]
  },
  {
   "cell_type": "code",
   "execution_count": null,
   "metadata": {},
   "outputs": [],
   "source": [
    "world_bank_data.head()"
   ]
  },
  {
   "cell_type": "code",
   "execution_count": null,
   "metadata": {},
   "outputs": [],
   "source": [
    "world_bank_data.dropna(how='all',inplace=True,axis=1)"
   ]
  },
  {
   "cell_type": "code",
   "execution_count": null,
   "metadata": {},
   "outputs": [],
   "source": [
    "world_bank_data.dropna(how='all',inplace=True)"
   ]
  },
  {
   "cell_type": "code",
   "execution_count": null,
   "metadata": {},
   "outputs": [],
   "source": [
    "world_bank_data.head()"
   ]
  },
  {
   "cell_type": "code",
   "execution_count": null,
   "metadata": {},
   "outputs": [],
   "source": [
    "world_bank_data.unstack().dropna(how='all',inplace=True)"
   ]
  },
  {
   "cell_type": "code",
   "execution_count": null,
   "metadata": {},
   "outputs": [],
   "source": [
    "world_bank_data.head()"
   ]
  },
  {
   "cell_type": "code",
   "execution_count": null,
   "metadata": {},
   "outputs": [],
   "source": [
    "world_bank_data = world_bank_data.transpose()"
   ]
  },
  {
   "cell_type": "code",
   "execution_count": null,
   "metadata": {},
   "outputs": [],
   "source": [
    "years = [\"2019\",\"2018\",\"2017\",\"2016\",\"2015\",\"2014\",\"2013\",\"2012\"]"
   ]
  },
  {
   "cell_type": "code",
   "execution_count": null,
   "metadata": {},
   "outputs": [],
   "source": [
    "#Finding the year with the least nan values for every variable\n",
    "total_nans = Series(np.zeros(len(years)),index=years)\n",
    "new_df_cols = []\n",
    "for i in world_bank_data.index:\n",
    "    for j in range(0,len(years)):\n",
    "        total_nans[total_nans.index[j]] += world_bank_data.loc[i, idx[:, years[j]]].isna().sum()\n",
    "    col_keep = total_nans.idxmin()\n",
    "    total_nans = Series(np.zeros(len(years)),index=years)\n",
    "    new_df_cols.append(col_keep)"
   ]
  },
  {
   "cell_type": "code",
   "execution_count": null,
   "metadata": {},
   "outputs": [],
   "source": [
    "world_bank_data = world_bank_data.transpose()\n",
    "world_bank_data.head()"
   ]
  },
  {
   "cell_type": "code",
   "execution_count": null,
   "metadata": {},
   "outputs": [],
   "source": [
    "world_bank_data = world_bank_data.unstack()\n",
    "world_bank_data.head()"
   ]
  },
  {
   "cell_type": "code",
   "execution_count": null,
   "metadata": {},
   "outputs": [],
   "source": [
    "#Dropping the unnecessary columns\n",
    "new_df_cols = Series(new_df_cols,index=world_bank_data.stack().columns)\n",
    "for i in range(len(new_df_cols)):\n",
    "    drop_cols = [x for x in years if x != new_df_cols[i]]\n",
    "    for col in drop_cols:\n",
    "        world_bank_data.drop((new_df_cols.index[i], col), axis = 1,inplace=True)"
   ]
  },
  {
   "cell_type": "code",
   "execution_count": null,
   "metadata": {},
   "outputs": [],
   "source": [
    "world_bank_data.head()"
   ]
  },
  {
   "cell_type": "code",
   "execution_count": null,
   "metadata": {},
   "outputs": [],
   "source": [
    "world_bank_data = world_bank_data.droplevel(1,axis=1)"
   ]
  },
  {
   "cell_type": "code",
   "execution_count": null,
   "metadata": {},
   "outputs": [],
   "source": [
    "#Arranging the columns in alphabetical order\n",
    "world_bank_data = world_bank_data.reindex(sorted(world_bank_data.columns), axis=1)\n",
    "world_bank_data.head()"
   ]
  },
  {
   "cell_type": "code",
   "execution_count": null,
   "metadata": {},
   "outputs": [],
   "source": [
    "#filling NaN values with the mean of the columns\n",
    "world_bank_data.fillna(value=world_bank_data.mean(),inplace=True)\n",
    "world_bank_data.head()"
   ]
  },
  {
   "cell_type": "code",
   "execution_count": null,
   "metadata": {},
   "outputs": [],
   "source": [
    "world_bank_data.shape"
   ]
  },
  {
   "cell_type": "code",
   "execution_count": null,
   "metadata": {},
   "outputs": [],
   "source": [
    "world_bank_data.isna().sum().sum()"
   ]
  },
  {
   "cell_type": "code",
   "execution_count": null,
   "metadata": {},
   "outputs": [],
   "source": [
    "#Creating an excel df of world bank variables actually used\n",
    "indicators_df[\"Indicator ID\"] = indicators_df[\"Indicator ID\"].str.strip()\n",
    "indicators_df.set_index(\"Indicator ID\",inplace=True)\n",
    "\n",
    "indicators_df.sort_index(inplace=True)\n",
    "indicators_df.head()\n",
    "\n",
    "indicators_df.drop_duplicates(inplace=True)\n",
    "indicators_df.loc[world_bank_data.columns,:]"
   ]
  },
  {
   "cell_type": "code",
   "execution_count": null,
   "metadata": {},
   "outputs": [],
   "source": [
    "indicators_df.head()"
   ]
  },
  {
   "cell_type": "code",
   "execution_count": null,
   "metadata": {},
   "outputs": [],
   "source": [
    "#Reading in the \"time since first case data\" from worldometer.info/coronavirus\n",
    "time_data = pd.read_excel(\"Time since first case.xlsx\")\n",
    "time_data.head()"
   ]
  },
  {
   "cell_type": "code",
   "execution_count": null,
   "metadata": {},
   "outputs": [],
   "source": [
    "#remapping the country names as before\n",
    "time_data.Country = time_data.Country.map(country_map_no_id).fillna(time_data.Country)\n",
    "time_data.Country = time_data.Country.map(country_map_multi).fillna(time_data.Country)\n",
    "time_data.Country"
   ]
  },
  {
   "cell_type": "code",
   "execution_count": null,
   "metadata": {},
   "outputs": [],
   "source": [
    "time_data.set_index(\"Country\",inplace=True)\n",
    "world_bank_data_1 = world_bank_data.merge(time_data[\"Days Since First Case\"],left_index=True,right_index=True)\n",
    "world_bank_data_1"
   ]
  },
  {
   "cell_type": "code",
   "execution_count": null,
   "metadata": {},
   "outputs": [],
   "source": [
    "#Reading in the data from Oxford (ourworldindata.org/coronavirus)\n",
    "ox_data = pd.read_csv(\"owid-covid-data.csv\")\n",
    "\n",
    "ox_data.head()"
   ]
  },
  {
   "cell_type": "code",
   "execution_count": null,
   "metadata": {},
   "outputs": [],
   "source": [
    "ox_data.set_index(\"date\",inplace=True)\n",
    "\n",
    "ox_data.sort_index()"
   ]
  },
  {
   "cell_type": "code",
   "execution_count": null,
   "metadata": {},
   "outputs": [],
   "source": [
    "ox_data.columns"
   ]
  },
  {
   "cell_type": "code",
   "execution_count": null,
   "metadata": {},
   "outputs": [],
   "source": [
    "ox_data_ovr = ox_data.loc[\"2020-04-13\"].copy()"
   ]
  },
  {
   "cell_type": "code",
   "execution_count": null,
   "metadata": {},
   "outputs": [],
   "source": [
    "ox_data_ovr.head()"
   ]
  },
  {
   "cell_type": "code",
   "execution_count": null,
   "metadata": {},
   "outputs": [],
   "source": [
    "ox_data_ovr.reset_index(inplace=True)"
   ]
  },
  {
   "cell_type": "code",
   "execution_count": null,
   "metadata": {},
   "outputs": [],
   "source": [
    "iso_code_map = dict(zip(country_df[\"WBD ID\"],country_df[\"WBD Name\"]))\n",
    "ox_data_ovr.iso_code = ox_data_ovr.iso_code.map(iso_code_map)"
   ]
  },
  {
   "cell_type": "code",
   "execution_count": null,
   "metadata": {},
   "outputs": [],
   "source": [
    "ox_data_ovr.reset_index(inplace=True)"
   ]
  },
  {
   "cell_type": "code",
   "execution_count": null,
   "metadata": {},
   "outputs": [],
   "source": [
    "ox_data_ovr.set_index(\"iso_code\",inplace=True)"
   ]
  },
  {
   "cell_type": "code",
   "execution_count": null,
   "metadata": {},
   "outputs": [],
   "source": [
    "ox_data_ovr.sort_index(inplace=True)\n",
    "ox_data_ovr.head()"
   ]
  },
  {
   "cell_type": "code",
   "execution_count": null,
   "metadata": {},
   "outputs": [],
   "source": [
    "ox_data_ovr.columns"
   ]
  },
  {
   "cell_type": "code",
   "execution_count": null,
   "metadata": {},
   "outputs": [],
   "source": [
    "#dropping unnecessary columns from Oxford database\n",
    "ox_data_ovr.drop(['date', 'location', 'new_cases',\n",
    "       'new_deaths', 'total_cases_per_million', 'new_cases_per_million',\n",
    "       'total_deaths_per_million', 'new_deaths_per_million','tests_units','total_tests_per_thousand','new_tests_per_thousand',\\\n",
    "                 'female_smokers']\\\n",
    "                 ,axis=1,inplace=True)"
   ]
  },
  {
   "cell_type": "code",
   "execution_count": null,
   "metadata": {},
   "outputs": [],
   "source": [
    "ox_data_ovr.columns"
   ]
  },
  {
   "cell_type": "code",
   "execution_count": null,
   "metadata": {},
   "outputs": [],
   "source": [
    "ox_data_ovr.head(15)"
   ]
  },
  {
   "cell_type": "code",
   "execution_count": null,
   "metadata": {},
   "outputs": [],
   "source": [
    "ox_data_ovr[[\"total_deaths\"]].fillna(value=0,inplace=True)\n",
    "ox_data_ovr.total_cases.isna().sum()"
   ]
  },
  {
   "cell_type": "code",
   "execution_count": null,
   "metadata": {},
   "outputs": [],
   "source": [
    "ox_data_ovr.fillna(value=ox_data_ovr.mean(),inplace=True)"
   ]
  },
  {
   "cell_type": "code",
   "execution_count": null,
   "metadata": {},
   "outputs": [],
   "source": [
    "ox_data_ovr.head(15)"
   ]
  },
  {
   "cell_type": "code",
   "execution_count": null,
   "metadata": {},
   "outputs": [],
   "source": [
    "ox_data_ovr.shape"
   ]
  },
  {
   "cell_type": "code",
   "execution_count": null,
   "metadata": {},
   "outputs": [],
   "source": [
    "data_ovr = ox_data_ovr.merge(world_bank_data_1,left_index=True,right_index=True)\n",
    "data_ovr.head()"
   ]
  },
  {
   "cell_type": "code",
   "execution_count": null,
   "metadata": {},
   "outputs": [],
   "source": [
    "data_ovr.shape"
   ]
  },
  {
   "cell_type": "code",
   "execution_count": null,
   "metadata": {},
   "outputs": [],
   "source": [
    "data_ovr.dropna(inplace=True,how='all')"
   ]
  },
  {
   "cell_type": "code",
   "execution_count": null,
   "metadata": {},
   "outputs": [],
   "source": [
    "data_ovr.shape"
   ]
  },
  {
   "cell_type": "code",
   "execution_count": null,
   "metadata": {},
   "outputs": [],
   "source": [
    "total_cases_pc = data_ovr[\"total_cases\"]/data_ovr[\"population\"]\n",
    "total_deaths_pc = data_ovr[\"total_deaths\"]/data_ovr[\"population\"]"
   ]
  },
  {
   "cell_type": "code",
   "execution_count": null,
   "metadata": {},
   "outputs": [],
   "source": [
    "#Calculating per capita values for below variables\n",
    "data_ovr[[\"total_tests\",\"EN.ATM.GHGT.KT.CE\",\"IS.AIR.PSGR\",\"SH.DTH.0514\",]]=\\\n",
    "data_ovr[[\"total_tests\",\"EN.ATM.GHGT.KT.CE\",\"IS.AIR.PSGR\",\"SH.DTH.0514\",]]\\\n",
    ".div(data_ovr[\"population\"],axis=0)"
   ]
  },
  {
   "cell_type": "code",
   "execution_count": null,
   "metadata": {},
   "outputs": [],
   "source": [
    "data_ovr.drop(['index','population',\"new_tests\",\"aged_65_older\",\"cvd_death_rate\"],axis=1,inplace=True)"
   ]
  },
  {
   "cell_type": "code",
   "execution_count": null,
   "metadata": {},
   "outputs": [],
   "source": [
    "data_ovr.head()"
   ]
  },
  {
   "cell_type": "code",
   "execution_count": null,
   "metadata": {},
   "outputs": [],
   "source": [
    "data_ovr.total_cases.isna().sum()"
   ]
  },
  {
   "cell_type": "code",
   "execution_count": null,
   "metadata": {},
   "outputs": [],
   "source": [
    "data_ovr.shape"
   ]
  },
  {
   "cell_type": "code",
   "execution_count": null,
   "metadata": {},
   "outputs": [],
   "source": [
    "#used_columns = data_ovr.columns\n",
    "#used_columns = Series(used_columns.values)\n",
    "#used_columns.sort_values(inplace=True)\n",
    "#used_columns.to_excel(\"Variable Data.xlsx\")"
   ]
  },
  {
   "cell_type": "code",
   "execution_count": null,
   "metadata": {},
   "outputs": [],
   "source": [
    "#Creating the explanatory variables dataframes (X1 for cases per capita, X2 for deaths per capita)\n",
    "X1 = data_ovr.drop([\"total_cases\",'total_deaths'],axis=1).copy()\n",
    "X1 = sm.add_constant(X1)\n",
    "X2 = data_ovr.drop([\"total_tests\",'total_deaths'],axis=1).copy()\n",
    "X2 = sm.add_constant(X2)"
   ]
  },
  {
   "cell_type": "code",
   "execution_count": null,
   "metadata": {},
   "outputs": [],
   "source": [
    "#Performing overall \"raw\" regressions\n",
    "mod_raw_cases = sm.OLS(total_cases_pc,X1).fit(cov_type='HAC',cov_kwds={'maxlags':12,'use_correction':True})\n",
    "mod_raw_deaths = sm.OLS(total_deaths_pc,X2).fit(cov_type='HAC',cov_kwds={'maxlags':12,'use_correction':True})\n",
    "mod_raw_cases.summary()"
   ]
  },
  {
   "cell_type": "code",
   "execution_count": null,
   "metadata": {},
   "outputs": [],
   "source": [
    "sum_raw_cases = mod_raw_cases.summary2()\n",
    "sum_raw_cases_table = sum_raw_cases.tables[1]\n",
    "#sum_raw_cases_table"
   ]
  },
  {
   "cell_type": "code",
   "execution_count": null,
   "metadata": {},
   "outputs": [],
   "source": [
    "sum_raw_deaths = mod_raw_deaths.summary2()\n",
    "sum_raw_deaths_table = sum_raw_deaths.tables[1]\n",
    "#sum_raw_deaths_table"
   ]
  },
  {
   "cell_type": "code",
   "execution_count": null,
   "metadata": {},
   "outputs": [],
   "source": [
    "raw_summary = summary_col([mod_raw_cases,mod_raw_deaths],float_format='%0.5f',info_dict={'N':lambda x: \"{0:d}\".format(int(x.nobs)),\\\n",
    "                            'R2':lambda x: \"{:.4f}\".format(x.rsquared),'AIC':lambda x: \"{:.4f}\".format(x.aic),\\\n",
    "                                                             'BIC':lambda x: \"{:.4f}\".format(x.bic),\\\n",
    "                            'Condition Number':lambda x: \"{0:d}\".format(int(x.condition_number))},stars=True).tables[0]\n",
    "raw_summary"
   ]
  },
  {
   "cell_type": "code",
   "execution_count": null,
   "metadata": {},
   "outputs": [],
   "source": [
    "#Sorting the two summary tables\n",
    "sum_raw_cases_table.sort_index(inplace=True)\n",
    "sum_raw_deaths_table.sort_index(inplace=True)"
   ]
  },
  {
   "cell_type": "code",
   "execution_count": null,
   "metadata": {},
   "outputs": [],
   "source": [
    "#Calculating the variance inflation factor to check for multicollinearity and remove variables\n",
    "vif_cases = DataFrame()\n",
    "vif_cases[\"VIF Factor\"] = [variance_inflation_factor(X1.values, i) for i in range(X1.shape[1])]\n",
    "vif_cases[\"features\"] = X1.columns\n",
    "\n",
    "vif_deaths = DataFrame()\n",
    "vif_deaths[\"VIF Factor\"] = [variance_inflation_factor(X2.values, i) for i in range(X2.shape[1])]\n",
    "vif_deaths[\"features\"] = X2.columns"
   ]
  },
  {
   "cell_type": "code",
   "execution_count": null,
   "metadata": {},
   "outputs": [],
   "source": [
    "vif_cases.sort_values(\"VIF Factor\",ascending=False,inplace=True)\n",
    "vif_deaths.sort_values(\"VIF Factor\",ascending=False,inplace=True)"
   ]
  },
  {
   "cell_type": "code",
   "execution_count": null,
   "metadata": {},
   "outputs": [],
   "source": [
    "vif_cases = vif_cases[vif_cases.features != \"const\"]\n",
    "vif_deaths = vif_deaths[vif_deaths.features != \"const\"]"
   ]
  },
  {
   "cell_type": "code",
   "execution_count": null,
   "metadata": {},
   "outputs": [],
   "source": [
    "vif_deaths[vif_deaths[\"VIF Factor\"]>10].features"
   ]
  },
  {
   "cell_type": "code",
   "execution_count": null,
   "metadata": {},
   "outputs": [],
   "source": [
    "X1.drop(columns=vif_cases[vif_cases[\"VIF Factor\"]>10].features,inplace=True)\n",
    "X2.drop(columns=vif_deaths[vif_deaths[\"VIF Factor\"]>10].features,inplace=True)\n",
    "\n",
    "vif_cases = DataFrame()\n",
    "vif_cases[\"VIF Factor\"] = [variance_inflation_factor(X1.values, i) for i in range(X1.shape[1])]\n",
    "vif_cases[\"features\"] = X1.columns\n",
    "\n",
    "vif_deaths = DataFrame()\n",
    "vif_deaths[\"VIF Factor\"] = [variance_inflation_factor(X2.values, i) for i in range(X2.shape[1])]\n",
    "vif_deaths[\"features\"] = X2.columns"
   ]
  },
  {
   "cell_type": "code",
   "execution_count": null,
   "metadata": {},
   "outputs": [],
   "source": [
    "vif_cases.sort_values(\"VIF Factor\",ascending=False,inplace=True)\n",
    "vif_deaths.sort_values(\"VIF Factor\",ascending=False,inplace=True)"
   ]
  },
  {
   "cell_type": "code",
   "execution_count": null,
   "metadata": {},
   "outputs": [],
   "source": [
    "#Stepwise Forward Regressions - feature reduction\n",
    "#Each of these functions output feature names based on the AIC and BIC criterion\n",
    "def AIC_step(X,y):\n",
    "    indep_vars = ['const']\n",
    "    aics = [0]\n",
    "    X_1 = X.copy()\n",
    "    X_2 = X.copy()\n",
    "    while aics[0] <= 0:\n",
    "        reg_intercept_only = sm.OLS(y,X_1.loc[:,indep_vars]).fit()\n",
    "        base_aic = reg_intercept_only.aic\n",
    "        aics = Series(0.0,index=X_2.columns[1:])\n",
    "        for i in X_2.columns[1:]:\n",
    "            cols = indep_vars + [i]\n",
    "            reg = sm.OLS(y,X_1.loc[:,cols]).fit()\n",
    "            aics[i] += reg.aic\n",
    "        aics -= base_aic\n",
    "        aics.sort_values(inplace=True)\n",
    "        if aics[0] < 0:\n",
    "            indep_vars.append(aics.index[0])\n",
    "        X_2.drop(aics.index[0],axis=1,inplace=True)    \n",
    "    return indep_vars\n",
    "\n",
    "def BIC_step(X,y):\n",
    "    indep_vars = ['const']\n",
    "    bics = [0]\n",
    "    X_1 = X.copy()\n",
    "    X_2 = X.copy()\n",
    "    while bics[0] <= 0:\n",
    "        reg_intercept_only = sm.OLS(y,X_1.loc[:,indep_vars]).fit()\n",
    "        base_bic = reg_intercept_only.bic\n",
    "        bics = Series(0.0,index=X_2.columns[1:])\n",
    "        for i in X_2.columns[1:]:\n",
    "            cols = indep_vars + [i]\n",
    "            reg = sm.OLS(y,X_1.loc[:,cols]).fit()\n",
    "            bics[i] += reg.bic\n",
    "        bics -= base_bic\n",
    "        bics.sort_values(inplace=True)\n",
    "        if bics[0] < 0:\n",
    "            indep_vars.append(bics.index[0])\n",
    "        X_2.drop(bics.index[0],axis=1,inplace=True)    \n",
    "    return indep_vars"
   ]
  },
  {
   "cell_type": "code",
   "execution_count": null,
   "metadata": {},
   "outputs": [],
   "source": [
    "#Performing the regressions on the reduced feature datasets\n",
    "X1_aic = X1.loc[:,AIC_step(X1,total_cases_pc)].copy()\n",
    "X2_aic = X2.loc[:,AIC_step(X2,total_deaths_pc)].copy()\n",
    "\n",
    "X1_bic = X1.loc[:,BIC_step(X1,total_cases_pc)].copy()\n",
    "X2_bic = X2.loc[:,BIC_step(X2,total_deaths_pc)].copy()"
   ]
  },
  {
   "cell_type": "code",
   "execution_count": null,
   "metadata": {},
   "outputs": [],
   "source": [
    "mod_cases_aic = sm.OLS(total_cases_pc,X1_aic).fit(cov_type='HAC',cov_kwds={'maxlags':12,'use_correction':True})\n",
    "mod_cases_bic = sm.OLS(total_cases_pc,X1_bic).fit(cov_type='HAC',cov_kwds={'maxlags':12,'use_correction':True})\n",
    "\n",
    "mod_deaths_aic = sm.OLS(total_deaths_pc,X2_aic).fit(cov_type='HAC',cov_kwds={'maxlags':12,'use_correction':True})\n",
    "mod_deaths_bic = sm.OLS(total_deaths_pc,X2_bic).fit(cov_type='HAC',cov_kwds={'maxlags':12,'use_correction':True})\n",
    "\n",
    "step_summary = summary_col([mod_cases_aic,mod_cases_bic,mod_deaths_aic,mod_deaths_bic],float_format='%0.5f',info_dict={'N':lambda x: \"{0:d}\".format(int(x.nobs)),\\\n",
    "                            'R2':lambda x: \"{:.4f}\".format(x.rsquared),'AIC':lambda x: \"{:.4f}\".format(x.aic),\\\n",
    "                                                             'BIC':lambda x: \"{:.4f}\".format(x.bic)},stars=True).tables[0]\n",
    "step_summary"
   ]
  },
  {
   "cell_type": "code",
   "execution_count": null,
   "metadata": {},
   "outputs": [],
   "source": [
    "#Performing Lasso Regressions"
   ]
  },
  {
   "cell_type": "code",
   "execution_count": null,
   "metadata": {},
   "outputs": [],
   "source": [
    "#Calculating the optimal alpha parameter and coefficients for the lasso regressions using the AIC criterion\n",
    "lasso_aic = lasso_ic(criterion='aic',normalize=True)\n",
    "aic_cases_alpha = lasso_aic.fit(X1,total_cases_pc).alpha_\n",
    "aic_cases_coef = lasso_aic.fit(X1,total_cases_pc).coef_.nonzero()[0]\n",
    "X1_lasso_aic = X1.iloc[:,aic_cases_coef].copy()\n",
    "X1_lasso_aic = sm.add_constant(X1_lasso_aic)\n",
    "\n",
    "aic_deaths_alpha = lasso_aic.fit(X2,total_deaths_pc).alpha_\n",
    "aic_deaths_coef = lasso_aic.fit(X2,total_deaths_pc).coef_.nonzero()[0]\n",
    "X2_lasso_aic = X2.iloc[:,aic_deaths_coef].copy()\n",
    "X2_lasso_aic = sm.add_constant(X2_lasso_aic)"
   ]
  },
  {
   "cell_type": "code",
   "execution_count": null,
   "metadata": {},
   "outputs": [],
   "source": [
    "#Calculating the optimal alpha parameter and coefficients for the lasso regressions using the BIC criterion\n",
    "lasso_bic = lasso_ic(criterion='bic',normalize=True)\n",
    "bic_cases_alpha = lasso_bic.fit(X1,total_cases_pc).alpha_\n",
    "bic_cases_coef = lasso_bic.fit(X1,total_cases_pc).coef_.nonzero()[0]\n",
    "X1_lasso_bic = X1.iloc[:,bic_cases_coef].copy()\n",
    "X1_lasso_bic = sm.add_constant(X1_lasso_bic)\n",
    "\n",
    "bic_deaths_alpha = lasso_bic.fit(X2,total_deaths_pc).alpha_\n",
    "bic_deaths_coef = lasso_bic.fit(X2,total_deaths_pc).coef_.nonzero()[0]\n",
    "X2_lasso_bic = X2.iloc[:,bic_deaths_coef].copy()\n",
    "X2_lasso_bic = sm.add_constant(X2_lasso_bic)"
   ]
  },
  {
   "cell_type": "code",
   "execution_count": null,
   "metadata": {},
   "outputs": [],
   "source": [
    "#Calculating the optimal alpha parameter and coefficients for the Lasso regressions using Cross Validation\n",
    "lasso_cv = LassoCV(random_state=23,normalize=True)\n",
    "cv_cases_alpha = lasso_cv.fit(X1,total_cases_pc).alpha_\n",
    "cv_cases_coef = lasso_cv.fit(X1,total_cases_pc).coef_.nonzero()[0]\n",
    "X1_lasso_cv = X1.iloc[:,cv_cases_coef].copy()\n",
    "X1_lasso_cv = sm.add_constant(X1_lasso_cv)\n",
    "\n",
    "cv_deaths_aplha = lasso_cv.fit(X2,total_deaths_pc).alpha_\n",
    "cv_deaths_coef = lasso_cv.fit(X2,total_deaths_pc).coef_.nonzero()[0]\n",
    "X2_lasso_cv = X2.iloc[:,cv_deaths_coef].copy()\n",
    "X2_lasso_cv = sm.add_constant(X2_lasso_cv)"
   ]
  },
  {
   "cell_type": "code",
   "execution_count": null,
   "metadata": {},
   "outputs": [],
   "source": [
    "#Lasso Regressions\n",
    "lasso_cases_aic = sm.OLS(total_cases_pc,X1_lasso_aic).fit_regularized(alpha=aic_cases_alpha,L1_wt=1,refit=True)\n",
    "lasso_cases_bic = sm.OLS(total_cases_pc,X1_lasso_bic).fit_regularized(alpha=bic_cases_alpha,L1_wt=1,refit=True)\n",
    "lasso_cases_cv = sm.OLS(total_cases_pc,X1_lasso_cv).fit_regularized(alpha=cv_cases_alpha,L1_wt=1,refit=True)\n",
    "\n",
    "lasso_deaths_aic = sm.OLS(total_deaths_pc,X2_lasso_aic).fit_regularized(alpha=aic_deaths_alpha,L1_wt=1,refit=True)\n",
    "lasso_deaths_bic = sm.OLS(total_deaths_pc,X2_lasso_bic).fit_regularized(alpha=bic_deaths_alpha,L1_wt=1,refit=True)\n",
    "lasso_deaths_cv = sm.OLS(total_deaths_pc,X2_lasso_cv).fit_regularized(alpha=cv_deaths_aplha,L1_wt=1,refit=True)"
   ]
  },
  {
   "cell_type": "code",
   "execution_count": null,
   "metadata": {},
   "outputs": [],
   "source": [
    "lasso_summary = summary_col([lasso_cases_aic,lasso_cases_bic,lasso_cases_cv,lasso_deaths_aic,lasso_deaths_bic,lasso_deaths_cv]\\\n",
    "                            ,float_format='%0.5f',info_dict={'N':lambda x: \"{0:d}\".format(int(x.nobs)),\\\n",
    "                            'R2':lambda x: \"{:.4f}\".format(x.rsquared),'AIC':lambda x: \"{:.4f}\".format(x.aic),\\\n",
    "                                                             'BIC':lambda x: \"{:.4f}\".format(x.bic)},stars=True).tables[0]\n",
    "lasso_summary"
   ]
  },
  {
   "cell_type": "code",
   "execution_count": null,
   "metadata": {},
   "outputs": [],
   "source": [
    "#Exporting results from overall,AIC/BIC and Lasso Regressions\n",
    "# Create a Pandas Excel writer using XlsxWriter as the engine.\n",
    "writer = pd.ExcelWriter('covid_regressions_results.xlsx')\n",
    "\n",
    "raw_summary.to_excel(writer, sheet_name=\"raw_regressions\")\n",
    "step_summary.to_excel(writer, sheet_name=\"stepwise_regressions\")\n",
    "lasso_summary.to_excel(writer, sheet_name=\"lasso_regressions\")\n",
    "\n",
    "writer.save()"
   ]
  }
 ],
 "metadata": {
  "kernelspec": {
   "display_name": "Python 3 (ipykernel)",
   "language": "python",
   "name": "python3"
  },
  "language_info": {
   "codemirror_mode": {
    "name": "ipython",
    "version": 3
   },
   "file_extension": ".py",
   "mimetype": "text/x-python",
   "name": "python",
   "nbconvert_exporter": "python",
   "pygments_lexer": "ipython3",
   "version": "3.12.4"
  }
 },
 "nbformat": 4,
 "nbformat_minor": 4
}
